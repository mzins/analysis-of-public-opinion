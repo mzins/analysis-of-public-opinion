{
 "cells": [
  {
   "cell_type": "markdown",
   "metadata": {},
   "source": [
    "Madelaine Zinser\n",
    "\n",
    "Lyn Nguyen \n",
    "\n",
    "December 2022"
   ]
  },
  {
   "cell_type": "code",
   "execution_count": 73,
   "metadata": {},
   "outputs": [],
   "source": [
    "import pandas as pd\n",
    "import seaborn as sns\n",
    "\n",
    "sns.set(style=\"whitegrid\")"
   ]
  },
  {
   "cell_type": "markdown",
   "metadata": {},
   "source": [
    "## Table of Content <a class=\"anchor\" id=\"content\"></a>\n",
    "* [ETL](#etl)\n",
    "* [EDA](#eda)\n",
    "    * [Single Variable EDA](#single-var-eda)\n",
    "        - [popularity](#popularity): \n",
    "        - [acousticness](#acousticness)\n",
    "        - [danceability](#dance)\n",
    "        - [duration_ms](#duration)\n",
    "        - [energy](#energy)\n",
    "        - [instrumentalness](#instr)\n",
    "        - [liveness](#live)\n",
    "        - [loudness](#loud)\n",
    "        - [speechiness](#speech)\n",
    "        - [tempo](#tempo)\n",
    "        - [valance](#valance)\n",
    "     \n",
    "    * [Pairwise EDA](#pairwise-eda)\n",
    "* [Build Model](#build-model)\n",
    "* [Validate Model](#validate-model)\n",
    "* [Use Model](#predict)"
   ]
  },
  {
   "cell_type": "markdown",
   "metadata": {},
   "source": [
    "## ELT <a class=\"anchor\" id=\"etl\"></a>\n",
    "\n",
    "We are working with 2 tables `tweets` and `users`. `scrapers.py` outputs the data. \n",
    "\n",
    "We will need to combine and remove duplicates.\n",
    "- tweets1.csv and users1.csv - Nov 30 - Dec 1\n",
    "- tweets2.csv and users2.csv - Nov 30 - Dec 2\n",
    "- tweets3.csv and users3.csv - Nov 29 - Dec 5 pulled on Dec 6."
   ]
  },
  {
   "cell_type": "code",
   "execution_count": null,
   "metadata": {},
   "outputs": [],
   "source": [
    "tweets = pd.read_csv(\"data/tweets2.csv\")\n",
    "users = pd.read_csv(\"data/users2.csv\")"
   ]
  },
  {
   "cell_type": "code",
   "execution_count": 75,
   "metadata": {},
   "outputs": [
    {
     "name": "stdout",
     "output_type": "stream",
     "text": [
      "454\n"
     ]
    },
    {
     "data": {
      "text/html": [
       "<div>\n",
       "<style scoped>\n",
       "    .dataframe tbody tr th:only-of-type {\n",
       "        vertical-align: middle;\n",
       "    }\n",
       "\n",
       "    .dataframe tbody tr th {\n",
       "        vertical-align: top;\n",
       "    }\n",
       "\n",
       "    .dataframe thead th {\n",
       "        text-align: right;\n",
       "    }\n",
       "</style>\n",
       "<table border=\"1\" class=\"dataframe\">\n",
       "  <thead>\n",
       "    <tr style=\"text-align: right;\">\n",
       "      <th></th>\n",
       "      <th>experiment_id</th>\n",
       "      <th>experiment_group</th>\n",
       "      <th>text</th>\n",
       "      <th>tweet_id</th>\n",
       "      <th>likes</th>\n",
       "      <th>retweets</th>\n",
       "      <th>created_at</th>\n",
       "      <th>user_id</th>\n",
       "      <th>in_reply_to_status_id</th>\n",
       "      <th>in_reply_to_user_id</th>\n",
       "      <th>in_reply_to_screen_name</th>\n",
       "      <th>screen_name</th>\n",
       "    </tr>\n",
       "  </thead>\n",
       "  <tbody>\n",
       "    <tr>\n",
       "      <th>0</th>\n",
       "      <td>0</td>\n",
       "      <td>usedgov</td>\n",
       "      <td>@usedgov Thank you for loan forgiveness</td>\n",
       "      <td>1599146922790354944</td>\n",
       "      <td>1</td>\n",
       "      <td>0</td>\n",
       "      <td>Sat Dec 03 21:01:51 +0000 2022</td>\n",
       "      <td>1508197172080222214</td>\n",
       "      <td>1.597260e+18</td>\n",
       "      <td>20437286</td>\n",
       "      <td>usedgov</td>\n",
       "      <td>luzbaez628</td>\n",
       "    </tr>\n",
       "    <tr>\n",
       "      <th>1</th>\n",
       "      <td>1</td>\n",
       "      <td>usedgov</td>\n",
       "      <td>@usedgov @SecCardona @usesgov @potus #studentl...</td>\n",
       "      <td>1598411747349913601</td>\n",
       "      <td>0</td>\n",
       "      <td>0</td>\n",
       "      <td>Thu Dec 01 20:20:32 +0000 2022</td>\n",
       "      <td>1477370850147983367</td>\n",
       "      <td>1.595158e+18</td>\n",
       "      <td>20437286</td>\n",
       "      <td>usedgov</td>\n",
       "      <td>fabulosi_t</td>\n",
       "    </tr>\n",
       "  </tbody>\n",
       "</table>\n",
       "</div>"
      ],
      "text/plain": [
       "   experiment_id experiment_group  \\\n",
       "0              0          usedgov   \n",
       "1              1          usedgov   \n",
       "\n",
       "                                                text             tweet_id  \\\n",
       "0            @usedgov Thank you for loan forgiveness  1599146922790354944   \n",
       "1  @usedgov @SecCardona @usesgov @potus #studentl...  1598411747349913601   \n",
       "\n",
       "   likes  retweets                      created_at              user_id  \\\n",
       "0      1         0  Sat Dec 03 21:01:51 +0000 2022  1508197172080222214   \n",
       "1      0         0  Thu Dec 01 20:20:32 +0000 2022  1477370850147983367   \n",
       "\n",
       "   in_reply_to_status_id  in_reply_to_user_id in_reply_to_screen_name  \\\n",
       "0           1.597260e+18             20437286                 usedgov   \n",
       "1           1.595158e+18             20437286                 usedgov   \n",
       "\n",
       "  screen_name  \n",
       "0  luzbaez628  \n",
       "1  fabulosi_t  "
      ]
     },
     "execution_count": 75,
     "metadata": {},
     "output_type": "execute_result"
    }
   ],
   "source": [
    "print(len(tweets))\n",
    "tweets[0:2]"
   ]
  },
  {
   "cell_type": "code",
   "execution_count": 82,
   "metadata": {},
   "outputs": [
    {
     "name": "stdout",
     "output_type": "stream",
     "text": [
      "454\n"
     ]
    },
    {
     "data": {
      "text/html": [
       "<div>\n",
       "<style scoped>\n",
       "    .dataframe tbody tr th:only-of-type {\n",
       "        vertical-align: middle;\n",
       "    }\n",
       "\n",
       "    .dataframe tbody tr th {\n",
       "        vertical-align: top;\n",
       "    }\n",
       "\n",
       "    .dataframe thead th {\n",
       "        text-align: right;\n",
       "    }\n",
       "</style>\n",
       "<table border=\"1\" class=\"dataframe\">\n",
       "  <thead>\n",
       "    <tr style=\"text-align: right;\">\n",
       "      <th></th>\n",
       "      <th>user_id</th>\n",
       "      <th>created_at</th>\n",
       "      <th>description</th>\n",
       "      <th>location</th>\n",
       "      <th>followers_count</th>\n",
       "      <th>screen_name</th>\n",
       "      <th>statuses_count</th>\n",
       "      <th>favourites_count</th>\n",
       "      <th>verified</th>\n",
       "    </tr>\n",
       "  </thead>\n",
       "  <tbody>\n",
       "    <tr>\n",
       "      <th>0</th>\n",
       "      <td>1508197172080222214</td>\n",
       "      <td>Sun Mar 27 21:41:16 +0000 2022</td>\n",
       "      <td>Thoughtful</td>\n",
       "      <td>NaN</td>\n",
       "      <td>0</td>\n",
       "      <td>luzbaez628</td>\n",
       "      <td>31</td>\n",
       "      <td>3</td>\n",
       "      <td>False</td>\n",
       "    </tr>\n",
       "    <tr>\n",
       "      <th>1</th>\n",
       "      <td>1477370850147983367</td>\n",
       "      <td>Sat Jan 01 20:07:25 +0000 2022</td>\n",
       "      <td>Everything I do is done with fabulosiT.</td>\n",
       "      <td>NaN</td>\n",
       "      <td>74</td>\n",
       "      <td>fabulosi_t</td>\n",
       "      <td>5111</td>\n",
       "      <td>5524</td>\n",
       "      <td>False</td>\n",
       "    </tr>\n",
       "  </tbody>\n",
       "</table>\n",
       "</div>"
      ],
      "text/plain": [
       "               user_id                      created_at  \\\n",
       "0  1508197172080222214  Sun Mar 27 21:41:16 +0000 2022   \n",
       "1  1477370850147983367  Sat Jan 01 20:07:25 +0000 2022   \n",
       "\n",
       "                               description location  followers_count  \\\n",
       "0                               Thoughtful      NaN                0   \n",
       "1  Everything I do is done with fabulosiT.      NaN               74   \n",
       "\n",
       "  screen_name  statuses_count  favourites_count  verified  \n",
       "0  luzbaez628              31                 3     False  \n",
       "1  fabulosi_t            5111              5524     False  "
      ]
     },
     "execution_count": 82,
     "metadata": {},
     "output_type": "execute_result"
    }
   ],
   "source": [
    "print(len(users))\n",
    "users[0:2]"
   ]
  },
  {
   "cell_type": "markdown",
   "metadata": {},
   "source": [
    "There are 454 datapoints split between the 3 sources (Dept of Education, CNN, Fox News). Currently our database is constraint to only data between Nov.27 and Dec.4.\n",
    "\n",
    "The columns of `tweets` are:\n",
    "- experiment_id\n",
    "- experiment_group \n",
    "- text\n",
    "- tweet_id\n",
    "- likes\n",
    "- retweets\n",
    "- created_at\n",
    "- user_id\n",
    "- in_reply_to_status_id\n",
    "- in_reply_to_user_id\n",
    "- in_reply_to_screen_name\n",
    "- screen_name: of the author\n",
    "\n",
    "`users` have the following columns: \n",
    "- user_id \n",
    "- created_at \n",
    "- description \n",
    "- location \n",
    "- followers_count \n",
    "- screen_name \n",
    "- statuses_count \n",
    "- favourites_count \n",
    "- verified\n"
   ]
  },
  {
   "cell_type": "markdown",
   "metadata": {},
   "source": [
    "## EDA <a class=\"anchor\" id=\"eda\"></a>\n",
    "\n",
    "###  Single Variable EDA <a class=\"anchor\" id=\"single-var-eda\"></a>"
   ]
  },
  {
   "cell_type": "markdown",
   "metadata": {},
   "source": [
    "#### in_reply_to_screen_name <a class=\"anchor\" id=\"experiment_group\"></a>\n",
    "\n",
    "Note that 'experiment_group' and 'in_reply_to_screen_name' identify the same value."
   ]
  },
  {
   "cell_type": "markdown",
   "metadata": {},
   "source": [
    "What is the share in non-retweet replies by experiment groups? "
   ]
  },
  {
   "cell_type": "code",
   "execution_count": 93,
   "metadata": {},
   "outputs": [
    {
     "data": {
      "text/html": [
       "<div>\n",
       "<style scoped>\n",
       "    .dataframe tbody tr th:only-of-type {\n",
       "        vertical-align: middle;\n",
       "    }\n",
       "\n",
       "    .dataframe tbody tr th {\n",
       "        vertical-align: top;\n",
       "    }\n",
       "\n",
       "    .dataframe thead th {\n",
       "        text-align: right;\n",
       "    }\n",
       "</style>\n",
       "<table border=\"1\" class=\"dataframe\">\n",
       "  <thead>\n",
       "    <tr style=\"text-align: right;\">\n",
       "      <th></th>\n",
       "      <th>in_reply_to_screen_name</th>\n",
       "      <th>count</th>\n",
       "    </tr>\n",
       "  </thead>\n",
       "  <tbody>\n",
       "    <tr>\n",
       "      <th>0</th>\n",
       "      <td>CNN</td>\n",
       "      <td>17</td>\n",
       "    </tr>\n",
       "    <tr>\n",
       "      <th>1</th>\n",
       "      <td>FoxNews</td>\n",
       "      <td>430</td>\n",
       "    </tr>\n",
       "    <tr>\n",
       "      <th>2</th>\n",
       "      <td>usedgov</td>\n",
       "      <td>7</td>\n",
       "    </tr>\n",
       "  </tbody>\n",
       "</table>\n",
       "</div>"
      ],
      "text/plain": [
       "  in_reply_to_screen_name  count\n",
       "0                     CNN     17\n",
       "1                 FoxNews    430\n",
       "2                 usedgov      7"
      ]
     },
     "execution_count": 93,
     "metadata": {},
     "output_type": "execute_result"
    }
   ],
   "source": [
    "tfreq = pd.DataFrame(\n",
    "    tweets\n",
    "        .groupby('in_reply_to_screen_name')\n",
    "        .size()\n",
    "        .reset_index(name=\"count\")\n",
    ")\n",
    "tfreq"
   ]
  },
  {
   "cell_type": "markdown",
   "metadata": {},
   "source": [
    "Out of 454 tweets, 430 are engagement on FoxNews. Surprisingly, US Department of Education have only 7 replies. How many unique authors are there? "
   ]
  },
  {
   "cell_type": "code",
   "execution_count": 95,
   "metadata": {},
   "outputs": [
    {
     "data": {
      "text/html": [
       "<div>\n",
       "<style scoped>\n",
       "    .dataframe tbody tr th:only-of-type {\n",
       "        vertical-align: middle;\n",
       "    }\n",
       "\n",
       "    .dataframe tbody tr th {\n",
       "        vertical-align: top;\n",
       "    }\n",
       "\n",
       "    .dataframe thead th {\n",
       "        text-align: right;\n",
       "    }\n",
       "</style>\n",
       "<table border=\"1\" class=\"dataframe\">\n",
       "  <thead>\n",
       "    <tr style=\"text-align: right;\">\n",
       "      <th></th>\n",
       "      <th>screen_name</th>\n",
       "      <th>count</th>\n",
       "    </tr>\n",
       "  </thead>\n",
       "  <tbody>\n",
       "    <tr>\n",
       "      <th>321</th>\n",
       "      <td>fabulosi_t</td>\n",
       "      <td>2</td>\n",
       "    </tr>\n",
       "    <tr>\n",
       "      <th>192</th>\n",
       "      <td>PCopposition</td>\n",
       "      <td>2</td>\n",
       "    </tr>\n",
       "    <tr>\n",
       "      <th>266</th>\n",
       "      <td>Vincent08571545</td>\n",
       "      <td>2</td>\n",
       "    </tr>\n",
       "    <tr>\n",
       "      <th>63</th>\n",
       "      <td>DahlmanCarl</td>\n",
       "      <td>2</td>\n",
       "    </tr>\n",
       "    <tr>\n",
       "      <th>90</th>\n",
       "      <td>Forevertrue10</td>\n",
       "      <td>2</td>\n",
       "    </tr>\n",
       "    <tr>\n",
       "      <th>54</th>\n",
       "      <td>Curious56388405</td>\n",
       "      <td>2</td>\n",
       "    </tr>\n",
       "    <tr>\n",
       "      <th>68</th>\n",
       "      <td>DavidWo15416040</td>\n",
       "      <td>3</td>\n",
       "    </tr>\n",
       "    <tr>\n",
       "      <th>418</th>\n",
       "      <td>thomaslew13</td>\n",
       "      <td>3</td>\n",
       "    </tr>\n",
       "    <tr>\n",
       "      <th>168</th>\n",
       "      <td>Marcos_Swagga</td>\n",
       "      <td>4</td>\n",
       "    </tr>\n",
       "    <tr>\n",
       "      <th>282</th>\n",
       "      <td>argo_times</td>\n",
       "      <td>6</td>\n",
       "    </tr>\n",
       "  </tbody>\n",
       "</table>\n",
       "</div>"
      ],
      "text/plain": [
       "         screen_name  count\n",
       "321       fabulosi_t      2\n",
       "192     PCopposition      2\n",
       "266  Vincent08571545      2\n",
       "63       DahlmanCarl      2\n",
       "90     Forevertrue10      2\n",
       "54   Curious56388405      2\n",
       "68   DavidWo15416040      3\n",
       "418      thomaslew13      3\n",
       "168    Marcos_Swagga      4\n",
       "282       argo_times      6"
      ]
     },
     "execution_count": 95,
     "metadata": {},
     "output_type": "execute_result"
    }
   ],
   "source": [
    "ufreq = pd.DataFrame(\n",
    "    tweets\n",
    "        .groupby('screen_name')\n",
    "        .size()\n",
    "        .reset_index(name=\"count\")\n",
    "        .sort_values(\"count\")\n",
    ")\n",
    "len(ufreq)\n",
    "#user with more screen names\n",
    "ufreq[ufreq['count'] >1]"
   ]
  },
  {
   "cell_type": "markdown",
   "metadata": {},
   "source": [
    "- What are the profiles of these 10 authors? \n",
    "\n",
    "- Does any of them engage with more than one experiment group? \n",
    "\n",
    "- Is their engagement due to high \"popularity\"? \n",
    "\n",
    "- Where do their tweets stand in the \"average\" tweet favorite count and retweet counts? "
   ]
  },
  {
   "cell_type": "markdown",
   "metadata": {},
   "source": [
    "### Users"
   ]
  },
  {
   "cell_type": "code",
   "execution_count": 78,
   "metadata": {},
   "outputs": [
    {
     "data": {
      "text/html": [
       "<div>\n",
       "<style scoped>\n",
       "    .dataframe tbody tr th:only-of-type {\n",
       "        vertical-align: middle;\n",
       "    }\n",
       "\n",
       "    .dataframe tbody tr th {\n",
       "        vertical-align: top;\n",
       "    }\n",
       "\n",
       "    .dataframe thead th {\n",
       "        text-align: right;\n",
       "    }\n",
       "</style>\n",
       "<table border=\"1\" class=\"dataframe\">\n",
       "  <thead>\n",
       "    <tr style=\"text-align: right;\">\n",
       "      <th></th>\n",
       "      <th>user_id</th>\n",
       "      <th>created_at</th>\n",
       "      <th>description</th>\n",
       "      <th>location</th>\n",
       "      <th>followers_count</th>\n",
       "      <th>screen_name</th>\n",
       "      <th>statuses_count</th>\n",
       "      <th>favourites_count</th>\n",
       "      <th>verified</th>\n",
       "    </tr>\n",
       "  </thead>\n",
       "  <tbody>\n",
       "    <tr>\n",
       "      <th>0</th>\n",
       "      <td>1508197172080222214</td>\n",
       "      <td>Sun Mar 27 21:41:16 +0000 2022</td>\n",
       "      <td>Thoughtful</td>\n",
       "      <td>NaN</td>\n",
       "      <td>0</td>\n",
       "      <td>luzbaez628</td>\n",
       "      <td>31</td>\n",
       "      <td>3</td>\n",
       "      <td>False</td>\n",
       "    </tr>\n",
       "    <tr>\n",
       "      <th>1</th>\n",
       "      <td>1477370850147983367</td>\n",
       "      <td>Sat Jan 01 20:07:25 +0000 2022</td>\n",
       "      <td>Everything I do is done with fabulosiT.</td>\n",
       "      <td>NaN</td>\n",
       "      <td>74</td>\n",
       "      <td>fabulosi_t</td>\n",
       "      <td>5111</td>\n",
       "      <td>5524</td>\n",
       "      <td>False</td>\n",
       "    </tr>\n",
       "  </tbody>\n",
       "</table>\n",
       "</div>"
      ],
      "text/plain": [
       "               user_id                      created_at  \\\n",
       "0  1508197172080222214  Sun Mar 27 21:41:16 +0000 2022   \n",
       "1  1477370850147983367  Sat Jan 01 20:07:25 +0000 2022   \n",
       "\n",
       "                               description location  followers_count  \\\n",
       "0                               Thoughtful      NaN                0   \n",
       "1  Everything I do is done with fabulosiT.      NaN               74   \n",
       "\n",
       "  screen_name  statuses_count  favourites_count  verified  \n",
       "0  luzbaez628              31                 3     False  \n",
       "1  fabulosi_t            5111              5524     False  "
      ]
     },
     "execution_count": 78,
     "metadata": {},
     "output_type": "execute_result"
    }
   ],
   "source": [
    "users[0:2]"
   ]
  },
  {
   "cell_type": "code",
   "execution_count": 79,
   "metadata": {},
   "outputs": [
    {
     "data": {
      "text/plain": [
       "Index(['user_id', 'created_at', 'description', 'location', 'followers_count',\n",
       "       'screen_name', 'statuses_count', 'favourites_count', 'verified'],\n",
       "      dtype='object')"
      ]
     },
     "execution_count": 79,
     "metadata": {},
     "output_type": "execute_result"
    }
   ],
   "source": [
    "users.columns"
   ]
  }
 ],
 "metadata": {
  "interpreter": {
   "hash": "80a48264df0fe6184ed8b30954b5fe2dc9cdd2326bae6a4bc1eed6434d4efdee"
  },
  "kernelspec": {
   "display_name": "Python 3.9.12 ('base')",
   "language": "python",
   "name": "python3"
  },
  "language_info": {
   "codemirror_mode": {
    "name": "ipython",
    "version": 3
   },
   "file_extension": ".py",
   "mimetype": "text/x-python",
   "name": "python",
   "nbconvert_exporter": "python",
   "pygments_lexer": "ipython3",
   "version": "3.9.12"
  },
  "orig_nbformat": 4
 },
 "nbformat": 4,
 "nbformat_minor": 2
}
