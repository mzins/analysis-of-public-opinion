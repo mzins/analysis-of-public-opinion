{
 "cells": [
  {
   "cell_type": "markdown",
   "metadata": {},
   "source": [
    "### Module 10 Assignment \n",
    "\n",
    "Lyn Nguyen Nov. 2022\n",
    "\n",
    "Design a sentiment analysis classifier using the **Sentiment 140** corpus and **NLTK**. Test the classifier using content from Twitter and Reddit. Describe any limitations of your sentiment analyzer. Turn in Python code as a Jupyter for the classifier.\n",
    "\n",
    "\n",
    "http://help.sentiment140.com/for-students\n",
    "\n",
    "- data: trainingandtestdata folder \n",
    "\t\n",
    "http://www.laurentluce.com/posts/twitter-sentiment-analysis-using-python-and-nltk/\n",
    "\n",
    "- how to put together a sentiment analysis classifier"
   ]
  },
  {
   "cell_type": "code",
   "execution_count": 2,
   "metadata": {},
   "outputs": [],
   "source": [
    "import pandas as pd\n",
    "import nltk\n",
    "import numpy as np\n",
    "from nltk.tokenize import TweetTokenizer\n",
    "from nltk.corpus import stopwords\n",
    "from nltk.tokenize import word_tokenize\n"
   ]
  },
  {
   "cell_type": "markdown",
   "metadata": {},
   "source": [
    "## Tutorial "
   ]
  },
  {
   "cell_type": "code",
   "execution_count": 3,
   "metadata": {},
   "outputs": [
    {
     "name": "stdout",
     "output_type": "stream",
     "text": [
      "[(['love', 'this', 'car'], 'positive'), (['this', 'view', 'amazing'], 'positive'), (['feel', 'great', 'this', 'morning'], 'positive'), (['excited', 'about', 'the', 'concert'], 'positive'), (['best', 'friend'], 'positive'), (['not', 'like', 'this', 'car'], 'negative'), (['this', 'view', 'horrible'], 'negative'), (['feel', 'tired', 'this', 'morning'], 'negative'), (['not', 'looking', 'forward', 'the', 'concert'], 'negative'), (['enemy'], 'negative'), (['@kenichan', 'dived', 'many', 'times', 'for', 'the', 'ball.', 'applepie', 'man.'], 'negative')]\n"
     ]
    },
    {
     "data": {
      "text/plain": [
       "[(['feel', 'happy', 'this', 'morning'], 'positive'),\n",
       " (['larry', 'friend'], 'positive'),\n",
       " (['not', 'like', 'that', 'man'], 'negative'),\n",
       " (['house', 'not', 'great'], 'negative'),\n",
       " (['your', 'song', 'annoying'], 'negative')]"
      ]
     },
     "execution_count": 3,
     "metadata": {},
     "output_type": "execute_result"
    }
   ],
   "source": [
    "# run what's in laurentluce.com \n",
    "pos_tweets = [('I love this car', 'positive'),\n",
    "              ('This view is amazing', 'positive'),\n",
    "              ('I feel great this morning', 'positive'),\n",
    "              ('I am so excited about the concert', 'positive'),\n",
    "              ('He is my best friend', 'positive')]\n",
    "neg_tweets = [('I do not like this car', 'negative'),\n",
    "              ('This view is horrible', 'negative'),\n",
    "              ('I feel tired this morning', 'negative'),\n",
    "              ('I am not looking forward to the concert', 'negative'),\n",
    "              ('He is my enemy', 'negative'),\n",
    "              ('@Kenichan I dived many times for the ball. applepie Man.', 'negative')] # added\n",
    "\n",
    "tweets = []\n",
    "\n",
    "for (words, sentiment) in pos_tweets + neg_tweets:\n",
    "    words_filtered = [e.lower() for e in words.split() if len(e) >= 3] #throw out words with 1 or 2 characters\n",
    "    tweets.append((words_filtered, sentiment))\n",
    "\n",
    "print(tweets)\n",
    "\n",
    "test_tweets = [\n",
    "    (['feel', 'happy', 'this', 'morning'], 'positive'),\n",
    "    (['larry', 'friend'], 'positive'),\n",
    "    (['not', 'like', 'that', 'man'], 'negative'),\n",
    "    (['house', 'not', 'great'], 'negative'),\n",
    "    (['your', 'song', 'annoying'], 'negative')]\n",
    "\n",
    "test_tweets"
   ]
  },
  {
   "cell_type": "markdown",
   "metadata": {},
   "source": [
    "### CLASSIFIER\n",
    "We get a list of features (words) and their frequencies next. "
   ]
  },
  {
   "cell_type": "code",
   "execution_count": 4,
   "metadata": {},
   "outputs": [],
   "source": [
    "# CLASSIFIER\n",
    "import nltk\n",
    "\n",
    "def get_words_in_tweets(tweets):  \n",
    "    \"\"\"smush all the words in the tweets into a single list\"\"\"\n",
    "    all_words = []\n",
    "    for (words, sentiment) in tweets:\n",
    "      all_words.extend(words)\n",
    "    return all_words\n",
    "\n",
    "\n",
    "def get_word_features(wordlist):\n",
    "    \"\"\" Outputs dictionary, although \n",
    "        no frequency count shows up (wordlist)\"\"\"\n",
    "    wordlist = nltk.FreqDist(wordlist)  # FreqDist({'word1': 3, 'word2': 1, etc.}) ordered from most freq to least\n",
    "    word_features = wordlist.keys()\n",
    "    return word_features \n",
    "\n",
    "word_features = get_word_features(get_words_in_tweets(tweets))"
   ]
  },
  {
   "cell_type": "code",
   "execution_count": 5,
   "metadata": {},
   "outputs": [
    {
     "data": {
      "text/plain": [
       "[(['this', 'view', 'amazing'], 'positive'),\n",
       " (['feel', 'great', 'this', 'morning'], 'positive')]"
      ]
     },
     "execution_count": 5,
     "metadata": {},
     "output_type": "execute_result"
    }
   ],
   "source": [
    "tweets[1:3]\n",
    "# type(tweets)"
   ]
  },
  {
   "cell_type": "code",
   "execution_count": 6,
   "metadata": {},
   "outputs": [
    {
     "data": {
      "text/plain": [
       "FreqDist({'this': 6, 'the': 3, 'car': 2, 'view': 2, 'feel': 2, 'morning': 2, 'concert': 2, 'not': 2, 'love': 1, 'amazing': 1, ...})"
      ]
     },
     "execution_count": 6,
     "metadata": {},
     "output_type": "execute_result"
    }
   ],
   "source": [
    "nltk.FreqDist(get_words_in_tweets(tweets))"
   ]
  },
  {
   "cell_type": "code",
   "execution_count": 7,
   "metadata": {},
   "outputs": [
    {
     "data": {
      "text/plain": [
       "dict_keys(['love', 'this', 'car', 'view', 'amazing', 'feel', 'great', 'morning', 'excited', 'about', 'the', 'concert', 'best', 'friend', 'not', 'like', 'horrible', 'tired', 'looking', 'forward', 'enemy', '@kenichan', 'dived', 'many', 'times', 'for', 'ball.', 'applepie', 'man.'])"
      ]
     },
     "execution_count": 7,
     "metadata": {},
     "output_type": "execute_result"
    }
   ],
   "source": [
    "word_features"
   ]
  },
  {
   "cell_type": "markdown",
   "metadata": {},
   "source": [
    "Next, we need a feature extractor"
   ]
  },
  {
   "cell_type": "code",
   "execution_count": 8,
   "metadata": {},
   "outputs": [],
   "source": [
    "def extract_features(document):\n",
    "    document_words = set(document)\n",
    "    features = {}\n",
    "    for word in word_features:\n",
    "        \"\"\"word_features is predefined above as list of \n",
    "           3+ letter tokens from all tweets combined\"\"\"\n",
    "        features['contains(%s)' % word] = (word in document_words)\n",
    "    return features"
   ]
  },
  {
   "cell_type": "code",
   "execution_count": 9,
   "metadata": {},
   "outputs": [
    {
     "data": {
      "text/plain": [
       "{'contains(love)': True,\n",
       " 'contains(this)': True,\n",
       " 'contains(car)': True,\n",
       " 'contains(view)': False,\n",
       " 'contains(amazing)': False,\n",
       " 'contains(feel)': False,\n",
       " 'contains(great)': False,\n",
       " 'contains(morning)': False,\n",
       " 'contains(excited)': False,\n",
       " 'contains(about)': False,\n",
       " 'contains(the)': False,\n",
       " 'contains(concert)': False,\n",
       " 'contains(best)': False,\n",
       " 'contains(friend)': False,\n",
       " 'contains(not)': False,\n",
       " 'contains(like)': False,\n",
       " 'contains(horrible)': False,\n",
       " 'contains(tired)': False,\n",
       " 'contains(looking)': False,\n",
       " 'contains(forward)': False,\n",
       " 'contains(enemy)': False,\n",
       " 'contains(@kenichan)': False,\n",
       " 'contains(dived)': False,\n",
       " 'contains(many)': False,\n",
       " 'contains(times)': False,\n",
       " 'contains(for)': False,\n",
       " 'contains(ball.)': False,\n",
       " 'contains(applepie)': False,\n",
       " 'contains(man.)': False}"
      ]
     },
     "execution_count": 9,
     "metadata": {},
     "output_type": "execute_result"
    }
   ],
   "source": [
    "# example \n",
    "extract_features(['love', 'this', 'car'])"
   ]
  },
  {
   "cell_type": "code",
   "execution_count": 10,
   "metadata": {},
   "outputs": [
    {
     "data": {
      "text/plain": [
       "[({'contains(love)': True, 'contains(this)': True, 'contains(car)': True, 'contains(view)': False, 'contains(amazing)': False, 'contains(feel)': False, 'contains(great)': False, 'contains(morning)': False, 'contains(excited)': False, 'contains(about)': False, 'contains(the)': False, 'contains(concert)': False, 'contains(best)': False, 'contains(friend)': False, 'contains(not)': False, 'contains(like)': False, 'contains(horrible)': False, 'contains(tired)': False, 'contains(looking)': False, 'contains(forward)': False, 'contains(enemy)': False, 'contains(@kenichan)': False, 'contains(dived)': False, 'contains(many)': False, 'contains(times)': False, 'contains(for)': False, 'contains(ball.)': False, 'contains(applepie)': False, 'contains(man.)': False}, 'positive'), ({'contains(love)': False, 'contains(this)': True, 'contains(car)': False, 'contains(view)': True, 'contains(amazing)': True, 'contains(feel)': False, 'contains(great)': False, 'contains(morning)': False, 'contains(excited)': False, 'contains(about)': False, 'contains(the)': False, 'contains(concert)': False, 'contains(best)': False, 'contains(friend)': False, 'contains(not)': False, 'contains(like)': False, 'contains(horrible)': False, 'contains(tired)': False, 'contains(looking)': False, 'contains(forward)': False, 'contains(enemy)': False, 'contains(@kenichan)': False, 'contains(dived)': False, 'contains(many)': False, 'contains(times)': False, 'contains(for)': False, 'contains(ball.)': False, 'contains(applepie)': False, 'contains(man.)': False}, 'positive'), ...]"
      ]
     },
     "execution_count": 10,
     "metadata": {},
     "output_type": "execute_result"
    }
   ],
   "source": [
    "# apply features to classifier with our feature_extract function \n",
    "# it outputs a list of tuple, each tuple holds the \"feature dictionary\"\n",
    "training_set = nltk.classify.apply_features(extract_features, tweets)\n",
    "training_set"
   ]
  },
  {
   "cell_type": "code",
   "execution_count": 11,
   "metadata": {},
   "outputs": [],
   "source": [
    "# train our classifier using our training data set\n",
    "classifier = nltk.NaiveBayesClassifier.train(training_set)"
   ]
  },
  {
   "cell_type": "code",
   "execution_count": 12,
   "metadata": {},
   "outputs": [
    {
     "data": {
      "text/plain": [
       "'positive'"
      ]
     },
     "execution_count": 12,
     "metadata": {},
     "output_type": "execute_result"
    }
   ],
   "source": [
    "# positive output because of word \"friend\"\n",
    "tweet = 'Larry is my friend'\n",
    "classifier.classify(extract_features(tweet.split()))"
   ]
  },
  {
   "cell_type": "markdown",
   "metadata": {},
   "source": [
    "## Apply\n",
    "\n",
    "Now that we got the tutorial to work, let's call in Sentiment 140 data. These are their column names: \n",
    "\n",
    "0 - the polarity of the tweet (0 = negative, 2 = neutral, 4 = positive)\n",
    "\n",
    "1 - the id of the tweet (2087)\n",
    "\n",
    "2 - the date of the tweet (Sat May 16 23:58:44 UTC 2009)\n",
    "\n",
    "3 - the query (lyx). If there is no query, then this value is NO_QUERY.\n",
    "\n",
    "4 - the user that tweeted (robotickilldozr)\n",
    "\n",
    "5 - the text of the tweet (Lyx is cool)"
   ]
  },
  {
   "cell_type": "code",
   "execution_count": 15,
   "metadata": {},
   "outputs": [],
   "source": [
    "input_path = \"prelim_data/training.1600000.processed.noemoticon.csv\"\n",
    "# '/Users/lnguyen/Library/CloudStorage/OneDrive-Personal/JHU/SocialMediaAnalytics_2022fall/Nguyen_Lyn_module8_hw/SocialMediaInsightsforMachineLearning.xlsm'\n",
    "\n",
    "s140_training = pd.read_csv(input_path, encoding='latin-1')\n",
    "s140_training.columns = [\"polarity\", \"tweet_id\", \"date\", \"query\", \"user\", \"tweet\"]\n"
   ]
  },
  {
   "cell_type": "code",
   "execution_count": 16,
   "metadata": {},
   "outputs": [
    {
     "data": {
      "text/html": [
       "<div>\n",
       "<style scoped>\n",
       "    .dataframe tbody tr th:only-of-type {\n",
       "        vertical-align: middle;\n",
       "    }\n",
       "\n",
       "    .dataframe tbody tr th {\n",
       "        vertical-align: top;\n",
       "    }\n",
       "\n",
       "    .dataframe thead th {\n",
       "        text-align: right;\n",
       "    }\n",
       "</style>\n",
       "<table border=\"1\" class=\"dataframe\">\n",
       "  <thead>\n",
       "    <tr style=\"text-align: right;\">\n",
       "      <th></th>\n",
       "      <th>polarity</th>\n",
       "      <th>tweet_id</th>\n",
       "      <th>date</th>\n",
       "      <th>query</th>\n",
       "      <th>user</th>\n",
       "      <th>tweet</th>\n",
       "      <th>sentiment</th>\n",
       "    </tr>\n",
       "  </thead>\n",
       "  <tbody>\n",
       "    <tr>\n",
       "      <th>0</th>\n",
       "      <td>0</td>\n",
       "      <td>1467810672</td>\n",
       "      <td>Mon Apr 06 22:19:49 PDT 2009</td>\n",
       "      <td>NO_QUERY</td>\n",
       "      <td>scotthamilton</td>\n",
       "      <td>is upset that he can't update his Facebook by ...</td>\n",
       "      <td>negative</td>\n",
       "    </tr>\n",
       "    <tr>\n",
       "      <th>1</th>\n",
       "      <td>0</td>\n",
       "      <td>1467810917</td>\n",
       "      <td>Mon Apr 06 22:19:53 PDT 2009</td>\n",
       "      <td>NO_QUERY</td>\n",
       "      <td>mattycus</td>\n",
       "      <td>@Kenichan I dived many times for the ball. Man...</td>\n",
       "      <td>negative</td>\n",
       "    </tr>\n",
       "    <tr>\n",
       "      <th>2</th>\n",
       "      <td>0</td>\n",
       "      <td>1467811184</td>\n",
       "      <td>Mon Apr 06 22:19:57 PDT 2009</td>\n",
       "      <td>NO_QUERY</td>\n",
       "      <td>ElleCTF</td>\n",
       "      <td>my whole body feels itchy and like its on fire</td>\n",
       "      <td>negative</td>\n",
       "    </tr>\n",
       "  </tbody>\n",
       "</table>\n",
       "</div>"
      ],
      "text/plain": [
       "   polarity    tweet_id                          date     query  \\\n",
       "0         0  1467810672  Mon Apr 06 22:19:49 PDT 2009  NO_QUERY   \n",
       "1         0  1467810917  Mon Apr 06 22:19:53 PDT 2009  NO_QUERY   \n",
       "2         0  1467811184  Mon Apr 06 22:19:57 PDT 2009  NO_QUERY   \n",
       "\n",
       "            user                                              tweet sentiment  \n",
       "0  scotthamilton  is upset that he can't update his Facebook by ...  negative  \n",
       "1       mattycus  @Kenichan I dived many times for the ball. Man...  negative  \n",
       "2        ElleCTF    my whole body feels itchy and like its on fire   negative  "
      ]
     },
     "execution_count": 16,
     "metadata": {},
     "output_type": "execute_result"
    }
   ],
   "source": [
    "# create a list of our conditions\n",
    "conditions = [(s140_training['polarity'] == 0),\n",
    "    (s140_training['polarity'] == 2) ,\n",
    "    (s140_training['polarity'] == 4)]\n",
    "\n",
    "# create a list of the values we want to assign for each condition\n",
    "values = ['negative', 'neutral', 'positive']\n",
    "\n",
    "# create a new column and use np.select to assign values to it using our lists as arguments\n",
    "s140_training['sentiment'] = np.select(conditions, values)\n",
    "\n",
    "# display updated DataFrame\n",
    "s140_training.head(3)"
   ]
  },
  {
   "cell_type": "markdown",
   "metadata": {},
   "source": [
    "Looks like the data loads in nicely. Let's reformat the training data to that of the tutorial. We need a list of tuples, where each tuple is an individual tweet. \n",
    "ex: [('text here abc', 'positive'), ('the sun is hot', 'positive'), ...]\n",
    "\n",
    "Then we need to split up the text into tokens. Differing from tutorial, we did not split words and filter those with fewer than 3 letters. Used TweetTokenizer().tokenize instead tokenize().word_tokenize to keep can't as one word and keep handle attached @."
   ]
  },
  {
   "cell_type": "code",
   "execution_count": 17,
   "metadata": {},
   "outputs": [
    {
     "data": {
      "text/plain": [
       "Index(['polarity', 'tweet_id', 'date', 'query', 'user', 'tweet', 'sentiment'], dtype='object')"
      ]
     },
     "execution_count": 17,
     "metadata": {},
     "output_type": "execute_result"
    }
   ],
   "source": [
    "s140_training.columns"
   ]
  },
  {
   "cell_type": "code",
   "execution_count": 19,
   "metadata": {},
   "outputs": [],
   "source": [
    "# turn s140_training['tweet'] into token variables \n",
    "\n",
    "def tokenize_column(df): \n",
    "    '''From hw 8'''\n",
    "    # input data\n",
    "    # stem = pd.DataFrame(df)\n",
    "\n",
    "    # iterate each col's row, use a list to add it back to the dataframe\n",
    "    tokenized_list = []\n",
    "    tLenList = []\n",
    "    msgLen = []\n",
    "    for ind in df.index: \n",
    "        msg = df['tweet'][ind]\n",
    "        # tokens = word_tokenize(msg)\n",
    "        tokens = TweetTokenizer().tokenize(msg) # https://stackoverflow.com/questions/34714162/preventing-splitting-at-apostrophies-when-tokenizing-words-using-nltk\n",
    "        # tknzr = TweetTokenizer()\n",
    "        # tknzr.tokenize(\"@Kenichan I haven't dived many times for the ball. Man\")\n",
    "\n",
    "\n",
    "        tokenized_list.append(tokens)\n",
    "        tLenList.append(len(tokens))\n",
    "        msgLen.append(len(msg))\n",
    "\n",
    "    df['wordTokenize'] = tokenized_list\n",
    "    df['tokenLength'] = tLenList\n",
    "    df['msgLen'] = msgLen\n",
    "\n",
    "    return df"
   ]
  },
  {
   "cell_type": "code",
   "execution_count": 20,
   "metadata": {},
   "outputs": [
    {
     "data": {
      "text/html": [
       "<div>\n",
       "<style scoped>\n",
       "    .dataframe tbody tr th:only-of-type {\n",
       "        vertical-align: middle;\n",
       "    }\n",
       "\n",
       "    .dataframe tbody tr th {\n",
       "        vertical-align: top;\n",
       "    }\n",
       "\n",
       "    .dataframe thead th {\n",
       "        text-align: right;\n",
       "    }\n",
       "</style>\n",
       "<table border=\"1\" class=\"dataframe\">\n",
       "  <thead>\n",
       "    <tr style=\"text-align: right;\">\n",
       "      <th></th>\n",
       "      <th>polarity</th>\n",
       "      <th>tweet_id</th>\n",
       "      <th>date</th>\n",
       "      <th>query</th>\n",
       "      <th>user</th>\n",
       "      <th>tweet</th>\n",
       "      <th>sentiment</th>\n",
       "      <th>wordTokenize</th>\n",
       "      <th>tokenLength</th>\n",
       "      <th>msgLen</th>\n",
       "    </tr>\n",
       "  </thead>\n",
       "  <tbody>\n",
       "    <tr>\n",
       "      <th>0</th>\n",
       "      <td>0</td>\n",
       "      <td>1467810672</td>\n",
       "      <td>Mon Apr 06 22:19:49 PDT 2009</td>\n",
       "      <td>NO_QUERY</td>\n",
       "      <td>scotthamilton</td>\n",
       "      <td>is upset that he can't update his Facebook by ...</td>\n",
       "      <td>negative</td>\n",
       "      <td>[is, upset, that, he, can't, update, his, Face...</td>\n",
       "      <td>24</td>\n",
       "      <td>111</td>\n",
       "    </tr>\n",
       "    <tr>\n",
       "      <th>1</th>\n",
       "      <td>0</td>\n",
       "      <td>1467810917</td>\n",
       "      <td>Mon Apr 06 22:19:53 PDT 2009</td>\n",
       "      <td>NO_QUERY</td>\n",
       "      <td>mattycus</td>\n",
       "      <td>@Kenichan I dived many times for the ball. Man...</td>\n",
       "      <td>negative</td>\n",
       "      <td>[@Kenichan, I, dived, many, times, for, the, b...</td>\n",
       "      <td>20</td>\n",
       "      <td>89</td>\n",
       "    </tr>\n",
       "    <tr>\n",
       "      <th>2</th>\n",
       "      <td>0</td>\n",
       "      <td>1467811184</td>\n",
       "      <td>Mon Apr 06 22:19:57 PDT 2009</td>\n",
       "      <td>NO_QUERY</td>\n",
       "      <td>ElleCTF</td>\n",
       "      <td>my whole body feels itchy and like its on fire</td>\n",
       "      <td>negative</td>\n",
       "      <td>[my, whole, body, feels, itchy, and, like, its...</td>\n",
       "      <td>10</td>\n",
       "      <td>47</td>\n",
       "    </tr>\n",
       "  </tbody>\n",
       "</table>\n",
       "</div>"
      ],
      "text/plain": [
       "   polarity    tweet_id                          date     query  \\\n",
       "0         0  1467810672  Mon Apr 06 22:19:49 PDT 2009  NO_QUERY   \n",
       "1         0  1467810917  Mon Apr 06 22:19:53 PDT 2009  NO_QUERY   \n",
       "2         0  1467811184  Mon Apr 06 22:19:57 PDT 2009  NO_QUERY   \n",
       "\n",
       "            user                                              tweet sentiment  \\\n",
       "0  scotthamilton  is upset that he can't update his Facebook by ...  negative   \n",
       "1       mattycus  @Kenichan I dived many times for the ball. Man...  negative   \n",
       "2        ElleCTF    my whole body feels itchy and like its on fire   negative   \n",
       "\n",
       "                                        wordTokenize  tokenLength  msgLen  \n",
       "0  [is, upset, that, he, can't, update, his, Face...           24     111  \n",
       "1  [@Kenichan, I, dived, many, times, for, the, b...           20      89  \n",
       "2  [my, whole, body, feels, itchy, and, like, its...           10      47  "
      ]
     },
     "execution_count": 20,
     "metadata": {},
     "output_type": "execute_result"
    }
   ],
   "source": [
    "# add a tokenized list from Twitter text\n",
    "df = tokenize_column(s140_training)\n",
    "df.head(3)"
   ]
  },
  {
   "cell_type": "code",
   "execution_count": 21,
   "metadata": {},
   "outputs": [
    {
     "data": {
      "text/plain": [
       "positive    800000\n",
       "negative    799999\n",
       "Name: sentiment, dtype: int64"
      ]
     },
     "execution_count": 21,
     "metadata": {},
     "output_type": "execute_result"
    }
   ],
   "source": [
    "# check how balanced the data is. total count of negative, neutral, and positive sentiment. \n",
    "df['sentiment'].value_counts()"
   ]
  },
  {
   "cell_type": "markdown",
   "metadata": {},
   "source": [
    "### Sample the corpus: \n",
    "With 1.6 million rows of data, to improve run time, we will sample 2k for now and proceed with the training. We will pick 1K with positive sentiment and 1K with negative sentiment. "
   ]
  },
  {
   "cell_type": "code",
   "execution_count": 22,
   "metadata": {},
   "outputs": [],
   "source": [
    "positive_df = df[df['sentiment'] == 'positive']\n",
    "negative_df = df[df['sentiment'] == 'negative']"
   ]
  },
  {
   "cell_type": "code",
   "execution_count": 23,
   "metadata": {},
   "outputs": [
    {
     "data": {
      "text/plain": [
       "(800000, 799999)"
      ]
     },
     "execution_count": 23,
     "metadata": {},
     "output_type": "execute_result"
    }
   ],
   "source": [
    "# get row count\n",
    "positive_df.shape[0], negative_df.shape[0]"
   ]
  },
  {
   "cell_type": "code",
   "execution_count": 24,
   "metadata": {},
   "outputs": [],
   "source": [
    "import random\n",
    "random.seed(10)\n",
    "\n",
    "positive_sample = positive_df.sample(n = 1000)\n",
    "negative_sample = negative_df.sample(n = 1000)"
   ]
  },
  {
   "cell_type": "code",
   "execution_count": 25,
   "metadata": {},
   "outputs": [
    {
     "data": {
      "text/plain": [
       "(1000, 1000)"
      ]
     },
     "execution_count": 25,
     "metadata": {},
     "output_type": "execute_result"
    }
   ],
   "source": [
    "positive_sample.shape[0], negative_sample.shape[0]"
   ]
  },
  {
   "cell_type": "code",
   "execution_count": 26,
   "metadata": {},
   "outputs": [],
   "source": [
    "# combine positive_sample & negative_sample\n",
    "sample_data = pd.concat([positive_sample, negative_sample]).shape[0]"
   ]
  },
  {
   "cell_type": "code",
   "execution_count": 27,
   "metadata": {},
   "outputs": [],
   "source": [
    "sample_data = pd.concat([positive_sample, negative_sample])[['wordTokenize', 'sentiment']]"
   ]
  },
  {
   "cell_type": "code",
   "execution_count": 28,
   "metadata": {},
   "outputs": [
    {
     "data": {
      "text/html": [
       "<div>\n",
       "<style scoped>\n",
       "    .dataframe tbody tr th:only-of-type {\n",
       "        vertical-align: middle;\n",
       "    }\n",
       "\n",
       "    .dataframe tbody tr th {\n",
       "        vertical-align: top;\n",
       "    }\n",
       "\n",
       "    .dataframe thead th {\n",
       "        text-align: right;\n",
       "    }\n",
       "</style>\n",
       "<table border=\"1\" class=\"dataframe\">\n",
       "  <thead>\n",
       "    <tr style=\"text-align: right;\">\n",
       "      <th></th>\n",
       "      <th>wordTokenize</th>\n",
       "      <th>sentiment</th>\n",
       "    </tr>\n",
       "  </thead>\n",
       "  <tbody>\n",
       "    <tr>\n",
       "      <th>517241</th>\n",
       "      <td>[sitting, sick, at, home, .]</td>\n",
       "      <td>negative</td>\n",
       "    </tr>\n",
       "    <tr>\n",
       "      <th>90271</th>\n",
       "      <td>[Oh, Arsenal, NOT, again, fs, (, Could, Drogba...</td>\n",
       "      <td>negative</td>\n",
       "    </tr>\n",
       "  </tbody>\n",
       "</table>\n",
       "</div>"
      ],
      "text/plain": [
       "                                             wordTokenize sentiment\n",
       "517241                       [sitting, sick, at, home, .]  negative\n",
       "90271   [Oh, Arsenal, NOT, again, fs, (, Could, Drogba...  negative"
      ]
     },
     "execution_count": 28,
     "metadata": {},
     "output_type": "execute_result"
    }
   ],
   "source": [
    "sample_data.tail(2)\n"
   ]
  },
  {
   "cell_type": "code",
   "execution_count": 29,
   "metadata": {},
   "outputs": [],
   "source": [
    "def records(df): \n",
    "    # https://stackoverflow.com/questions/9758450/pandas-convert-dataframe-to-array-of-tuples\n",
    "    return df.to_records(index=False).tolist()\n",
    "sample_data = records(sample_data)"
   ]
  },
  {
   "cell_type": "code",
   "execution_count": 30,
   "metadata": {},
   "outputs": [
    {
     "data": {
      "text/plain": [
       "dict_keys(['@enobytes', 'drank', 'a', '2003', 'I', 'guess', 'that', 'doesnt', 'count', '?', '@HellenBach', 'is', 'good', ',', 'wish', 'could', 'do', 'more', 'when', 'worked', 'sold', 'my', 'homemade', 'cards', 'for', 'CiN', 'not', 'much', 'but', 'every', 'little', 'helps', '@Ambee789', 'AGREED', '&', '!', 'going', 'into', 'the', 'kitchen', 'as', 'smoke', 'alarm', 'has', 'gone', 'off', '.', 'Oh', 'well', 'looks', 'like', 'its', 'KFC', 'sunday', 'dinner', 'Scotland', \"'\", 'poonia', 'playing', 'them', 'in', '20:20', '...', 'who', 'would', 'have', 'imagined', 'locked', 'room', 'listening', 'to', 'music', 'and', 'surfing', 'internet', \"that's\", 'basically', 'what', 'i', 'all', 'day', 'at', 'pool', 'doin', 'lexi', 'run', '@AniaRysz', 'did', 'you', 'think', 'of', 'film', '@BeverlyBurger', 'No', \"it's\", 'me', 'love', 'than', 'Hoping', '@mchammer', 'busts', 'dance', 'move', '140', 'steps', 'or', 'less', 'he', 'hits', 'stage', '#twtrcon', '@whoaMIRIAM', 'it', 'will', 'come', 'making', 'money', 'http://durrrrland.blogspot.com/', '@RiverdeepANDRed', 'Booooy', 'You', 'need', 'put', 'shit', 'on', 'repeat', 'so', 'dont', 'miss', 'goodies', '@jordanknight', '3', 'year', 'old', 'niece', 'sings', 'along', \"NKOTB's\", 'Dirty', 'Dancing', \"I'd\", 'watch', '@RoyalPains_USA', 'premiere', 'this', 'Thurs', 'if', 'got', 'free', 'Sno-Cone', 'http://yfrog.com/0w8dvhj', 'Who', 'am', \"kidding--I'd\", 'anyway', '@wardenofscience', 'Haha', 'constipated', 'Yes', 'just', \"isn't\", 'housebroken', 'yet', 'But', \"he's\", 'getting', 'there', 'Just', 'finished', 'mowing', 'long', 'Going', 'go', 'get', 'washed', 'up', 'changed', 'Then', 'delicious', 'Cracker', 'Barrel', 'We', 'should', 'teacup', 'named', 'decoy', 'jdp', 'ccm', 'ive', 'actually', 'burnt', 'woooop', '@nickie72', 'roflmao', '-', 'defo', 'keep', 'clothes', 'Back', 'from', 'visit', 'town', 'nice', 'outside', 'here', 'now', 'ok', 'toodles', 'FOR', 'NOW', '@belladawna', 'damn', '5', '*', 'vip', 'parking', 'This', 'be', 'first', \"i've\", 'had', 'pay', 'park', \"i'm\", 'due', '@amrithallan', ':', 'hahaha', 'about', 'work', 'after', 'coming', 'back', 'vacation', '@Lucky_Gem', 'yeppers', \"i'd\", 'offer', 'one', 'men', 'learned', 'greedy', 'horrible', 'hangover', '..', 'ugh', 'lord', 'shouldnt', 'mixed', 'liquers', 'lol', 'track', 'write', 'wanna', 'chit', 'chat', 'hmmm', 'single', 'maybe', 'looping', 'bed', 'LOL', 'terrible', 'know', '@OfficialTL', 'looK', 'pictuRe', 'made', 'http://twitpic.com/3v6vq', 'gOOd', 'lucKK', 'new', 'mooN', 'Getting', 'ready', 'church', 'feel', 'yucky', 'hopefully', \"it'll\", 'still', 'great', 'God', 'bless', \"ya'll\", 'hate', 'exam', 'revision', 'why', \"don't\", 'they', 'give', 'everyone', 'As', 'done', 'with', '@T_Diggity', 'can', 'secret', 'because', 'thought', 'hammering', 'out', 'some', 'buddies', '@HAMMER32', '@CandyMaize', '@TozaBoma', 'twinkie', 'thing', 'happening', 'Today', 'Salt', 'burn', 'pictures', 'Get', 'Sony', 'press', 'conference', '@justlikeanovel', '@purplehayz', 'look', '#babytweeters', 'PFFTT', 'she', 'ha', 'ehh', 'these', 'spammers', 'make', 'laugh', 'really', 'want', '2', 'c', 'Britney', 'Spears', 'perform', 'sex', \"act's\", 'guys', 'um', 'no', 'CLEANING', 'MY', 'CAR', '@ShalimarFire', 'idea', 'an', 'SAT', 'apart', 'week', 'hope', 'pass', 'your', 'test', 'today', 'http://simoneserhan.tumblr.com', 'post', '@darylsws', \"didn't\", 'Twitter', 'until', 'late', 'yesterday', 'yes', 'very', 'Like', 'WordPress', 'theme', 'seen', '@angelsandemons', 'entertained', 'value', 'movie', 'nothing', 'see', 'self', '@andywalton', 'too', 'After', 'tweet', 'Daily_Devotions', 'followed', 'Insta-block', '(', 'tm', ')', '@RyanSaylor', 'Limo', 'What', 'enjoy', 'rest', 'trip', '@MarkGibbens', 'SOunds', 'cool', 'documentation', 'project', 'proposal', 'sorted', \"I'll\", 'doing', 'watching', \"It's\", 'such', 'beautiful', '@twilightxgalaxy', 'sounds', 'amazing', '@yeahlexxi', '100', 'followers', 'using', 'www.tweeterfollow.com', 'Once', 'add', 'are', 'train', 'Kris', 'Big', 'Brother', 'grown', 'Watching', 'Spike', 'Buffy', 'speak', 'American', 'accent', 'seems', 'strange', 'used', 'him', 'speaking', 'pommy', 'The', 'weather', 'awesome', 'http://twitpic.com/6cbuc', '@vanialopez', 'sorry', 'u', 'sore', 'stuff', 'positive', 'worth', 'end', \"can't\", 'wait', '@alyxandracouch', 'was', 'itt', 'half', 'past', '1', 'Germany', 'And', \"I'm\", 'AT', 'SCHOOL', '@majqee', 'coffee', 'dude', 'forget', 'At', 'may', 'say', 'congregational', 'song', '@NicoleSimon', 'thanks', 'lot', 'iÂ', '´', 'm', 'curious', 'collaborative', 'interviews', 'afraid', 'question', '@KITTILITTER', 'That', 'always', '@runway101', 'Hey', 'Nandee', 'babes', 'whats', 'goinn', 'Justin', 'Nozuka', 'Be', 'Soon', '#musicmonday', '@HelloLizzi', 'OH', 'thats', 'pritty', 'cause', 'spoke', 'yeah', '@aprillian', '@wemb', '@medros', '@graece', 'anything', 'special', '@Anea', 'TwistedNether', 'http://twurl.nl/50bfhi', '@AI9', 'we', 'our', 'sixers', 'championship', 'homeeeeeeeeeeeeeeee', 'Excited', 'lunch', \"Reid's\", 'finally', 'meet', \"Hannah's\", 'grandparents', '@destroytheearth', 'Plus', 'eat', \"Denny's\", \"Benegan's\", 'TGIF', \"Chilli's\", 'Outback', 'Steak', 'House', 'Key', 'Lime', 'Pie', 'L.OOOOOOOOO', 'V', 'E', 'Saturdays', 'So', '/', 'refreshing', '@Mirroranne', 'Will', '@gfalcone601', 'Gio', \"You're\", 'cute', '@debbieskerten', 'Bon', 'appetit', 'virtual', 'world', 'twitter', 'chillin', 'bout', 'play', 'hockey', 'PS2', '@ekaeth', 'ntc', 'K', 'Facilote', '@yahyan', 'babe', 'only', 'text', 'send', 'whatever', 'sent', 'again', \"twitter's\", 'bein', 'gay', '@tomsturge', 'Awesome', 'High', 'five', 'same', 'situation', 'Please', 'take', 'home', 'wedding', \"couldn't\", 'been', 'perfect', 'Home', 'sunny', '@kueblerwolf', 'Makes', 'longer', 'summer', 'nights', 'makes', 'winter', 'awful', 'though', 'admit', 'theater', '4', 'scores', 'row', 'Harry', 'Potter', 'two', 'before', 'released', 'Correction', 'poem', 'May', '2009', '5.2', '09', 'yeee', '\"', 'Poem', '_5', '2.09', 'There', '@imjustcreative', 'sure', 'early', 'went', 'gym', '@DallasDave', 'bet', 'tequila', '@xamylouise', 'LOLNICE', 'Amy', '~', 'bands', 'myspace', ':p', 'gossip', 'girl', 'http://bit.ly/kOo9P', '=', '1612947', '@SophieTighe', 'jorma', 'forte', 'wrote', 'MacGruber', '@d2zone', 'Thanks', 'recommendation', 'Before', 'distracted', 'thank', 'taking', 'trouble', 'follow', 'others', 'feelin', '@Meteora20', 'fine', 'thx', 'how', '@sonia_n', 'www.tweeteradder.com', 'followinq', '@DAChesterFrench', 'shud', 'tha', 'spring', 'life', 'happy', 'born', 'Sunny', 'shall', 'soaking', 'last', 'also', 'thinking', \"haven't\", 'Katie', 'time', 'where', 'alex', 'ally', '@Pink', 'Hi', 'prague', 'tickets', 'shortly', 'mine', 'english', '@Tomasincge', 'Cheers', 'imogen', \"heap's\", 'smile', 'RULE', 'OF', 'LIFE', '#', 'STOP', 'SAYING', 'NO', 'WHEN', 'OFFERED', 'COFFEE', 'lots', 'people', 'matchmaker', 'unwilling', 'unknowing', 'haha', 'sneaky', '@oregonblip', 'Love', 'BeeGees', 'Started', 'Joke', 'Still', 'Waters', 'Run', 'Deep', 'Do', 'Sister', 'Hazel', 'lo', 'â', '\\x99', '«', 'http://blip.fm/~7gg1r', '@dachyang', 'grave', 'yards', '12am', 'tonight', 'SO', 'fishing', 'around', '12pm', 'officially', 'bama', 'super', 'pumped', 'Good', 'morning', 'starshine', 'earth', 'says', 'hello', 'french', 'fries', 'Arizona', 'Green', 'tea', 'kennywood', 'most', 'ppl', 'ever', '@definatalie', 'One', 'Dollhouse', 'fans', '@Nancy9980', 'Thank', 'Nancy', 'sweet', 'support', 'us', '@angelorphan', 'Well', 'started', 'Other', 'reception', 'problem', 'pretty', 'phone', 'beginning', 'video', \"joe's\", 'clapping', \"someone's\", 'ass', 'kinda', 'gosh', 'best', '<3', '@jordaaaannnn', 'were', 'tounges', 'said', 'Gnik', 'Nus', 'informed', 'northern', '@wadeis', 'according', 'ur', 'site', 'owe', ';)', 'working', 'personal', 'atm', 'bought', 'ufc', 'ps3', 'picking', 'plasma', 'tv', 'tomorrow', 'Mmmm', 'espresso', 'house', 'Grandpa', 'found', 'minolta', 'camera', 'removable', 'lenses', '@julienviet', 'Propellerheads', 'harddrive', 'while', 'repo', 'shape', 'WE', 'felt', 'nostalgic', 'Finally', 'BLEH', 'See', 'Goodnight', 'hang', 'frens', 'Charlies', 'Few', 'songs', 'Kenny', \"Rodger's\", 'Gambler', 'another', 'start', 'fresh', 'holds', 'For', 'Breakfast', 'fun', 'glitttah', 'eyeliner', '@briansheva', 'ipod', 'funny', '@sosfour9', 'fantastic', 'website', '@jennEjones', 'Google', 'BB', 'searched', 'Twitterberry', 'downloaded', 'coolness', 'Check', 'almost', 'forgot', 'JONAS', 'wrong', 'jeez', 'wathced', 'wayy', '@GAS137', 'He', 'under', 'desk', 'any', 'attention', 'left', '@JanSimpson', 'independ', '@stevielynn1', 'stopped', 'raining', 'over', 'NY', '75', 'Long', 'city', 'Go', 'Team', 'Tough', 'Titties', 'Susan', 'G', 'Komen', 'walk', 'fabulous', '@NiaVardalos', 'New', 'My', 'Life', 'In', 'Ruins', 'her', 'inside', 'w', 'kids', 'Currently', 'learning', 'Master', 'Puppets', 'riff', '@xxsara', 'then', 'school', 'office', '@JoseMendez14', 'someone', \"special's\", 'b-day', '@Daniella1224', 'within', 'weeks', 'photos', 'inventory', '@ErickWeber', 'bump', 'anyone', '@RealAudreyJones', 'highly', 'recommends', 'join', 'www.m2e.asia', 'earn', 'shareholder', 'by', 'dividends', 'Even', 'NOTHING', 'keys', 'gum', 'feeln', 'beat', 'hitt', 'floor', 'lil', 'sweat', 'aint', 'neva', 'hurt', 'body', 'Went', 'swimming', '@angelabonomo', 'till', 'pics', 'smeared', 'birthday', 'cake', '@ShortStack_24', 'goooooooood', 'short', 'stack', 'wbu', 'im', 'yea', 'allll', 'dat', '@lilmissweetlips', 'startin', 'sober', 'needed', 'didnt', 'realise', 'drunk', 'car', 'xx', '@soco210', 'Ah', 'close', 'Ross', 'Mac', 'Carnegie', 'Negroponte', 'solution', 'through', 'children', 'themselves', 'tool', 'eduction', '#wsis09', '@CVJason', '@MINDY979', '@inotherwords_c', '@scrapplesandwic', '@thenewnicole', '@Sweettreat', 'FFs', 'friends', '@laurenledet', 'http://twitpic.com/68v9i', 'es', 'nueva', 'en', 'xD', '@missgreens', 'cat', 'gather', 'Dharla', 'name', 'tired', 'night', '@kreativlink', 'nap', 'Cause', 'bored', 'Had', 'rough', 'ended', 'wonder', 'knows', 'enough', 'christmas', 'Existential', 'questions', 'ho', 'yayoffwork', '@crazyshey', 'message', 'ko', 'sau', 'ung', 'Down', 'carnival', 'fireworks', 'A', 'lovely', 'Portland', 'husband', 'Yay', 'feet', '<', '}', 'Jay', \"Leno's\", 'Tonight', 'Show', 'Friday', 'Conan', \"O'Brien\", 'even', 'funnier', 'Monday', '@LucasCTeam', '@RadioU', 'waiting', 'mtv', 'awards', 'excited', 'keeping', 'moooooorning', 'http://plurk.com/p/su3dg', '@angiesworld1', 'It', 'quiet', 'sux', 'either', 'fri', 'sat', 'overnight', 'Jimmy', 'shoes', 'stuck', 'head', 'yahoo', 'pipes', 'combine', 'feeds', 'doable', 'reliable', 'version', 'Tweetie', '1.2', 'fixes', 'colour', 'selected', 'tweets', 'Now', 'complaints', 'Working', 'women', 'flowers', 'lake', 'travis', 'Typical', '@MadisonCreek', \"I've\", 'known', 'since', '7', 'kid', 'Mixing', 'rock', 'band', '@GrahamHill', 'exchange', 'marketing', 'figure', ';', 'advertising', 'btw', 'MORNING', 'bitches', 'Can', 'haz', 'userpic', 'stupid', 'searching', 'sun', 'Join', '3rd', 'EIX', '24th', 'June', \"D'Lish\", 'Cafe', 'Bangsar', 'Village', 'Msg', 'details', '@DaViexJonas', 'totally', 'agree', 'cant', 'hear', 'full', '@DarkPiano', 'Restful', 'Night', 'Loren', 'being', '@bryanadams', 'Have', 'show', 'dorothy', 'toto', '@kellz326', 'talking', 'scotty', '@rosiered23', 'fellow', 'liberal', '@iknowpants', '@HiddenErin', '5:14', 'To', 'Sleep', 'Morning', \"Y'all\", 'Sweet', 'Dreams', 'http://myloc.me/2TUW', 'seriously', 'parents', 'planet', '. .', 'sayin', 'hot', 'gorgeous', 'cloud', 'sky', 'library', 'read', 'Is', 'Cold', 'Blood', 'book', 'P', 'S', '@premad', 'point', 'drink', 'MCAT', 'studying', 'employers', 'next', 'Starbucks', 'instead', 'Tim', 'Hortons', 'e', 'bagel', 'Heads', '@maricristheband', 'Hah', 'remember', 'big', 'Greenville', 'SC', 'premier', 'service', 'Revolution', 'Church', '6:30', 'pm', 'lisa', '@vighnesh', 'main', 'khud', 'karta', 'hoon', 'na', 'uski', 'activities', 'broadcast', 'thodi', '@fightfan24', 'LOVE', 'friday', '13th', 'jared', 'except', 'ending', ':]', 'plans', 'weekend', 'Anyone', 'running', 'marathon', 'Starting', 'exercise', 'routine', 'Finding', 'their', '@BillReese', 'Boy', 'Weekend', 'wonderful', 'eager', 'which', 'Windows', 'October', 'CPUs', 'Intel', 'AMD', 'starting', 'PC', 'build', 'near', 'future', '@ddlovato', 'aww', 'r', 'tour', 'wid', 'da', 'jo', 'bros', 'Pleasee', 'sayy', 'hii', 'mee', 'wudd', 'soo', 'x', 'corona', 'Favor', 'Follow', 'friend', 'Nina', '@ChiT10', 'introduced', 'Welcome', 'TY', '#newfriend', '@paulleman', 'enjoying', 'proper', 'cafe', 'culture', '@caseysevenfold', \"there's\", 'def', 'chance', \"they'll\", 'soundcheck', 'kidnaps', 'St', 'Pancras', 'recovering', 'london', 'stag', 'North', 'Saw', 'Evan', 'Davis', '@alliemcbell', '@strippedtolove', 'saw', 'moon', 'moons', 'Hint', 'Look', 'somewhere', 'screen', '@Nkluvr4eva', 'buyer', \"kate's\", 'gonna', 'cherry', 'hill', \"sister's\", 'tix', '@D0miniqu3', \"IT's\", 'his', 'blood', '@Candi_Cayne', 'kiddo', 'embraced', 'own', 'ego', 'fighting', 'took', 'hand', 'sign', 'treaty', 'Affair', 'began', 'lololol', 'melbourne', 'august', \"you're\", '@lilyroseallen', 'goooood', '@acryfromthesoul', 'Not', 'bad', 'red', 'eye', 'flight', 'shorter', '@TheWordMagazine', 'Did', 'bit', 'sparkle', '@cgladson', 'rise', 'N', 'shine', '@pmdhazy', 'While', 'thingamy', 'Looks', '|', '___', '\\\\', 'bigger', 'hole', '#engineeringdrawing', '@jeffsgrippen', 'gets', 'down', '10C', '25C', 'butter', 'cookies', 'Hello', 'human', 'DNA', 'desoxyribonucleic', 'acid', 'Summerfest', 'fast', 'Gonna', 'shopping', 'thee', 'sister', '@Itarille', \"You've\", 'badass', 'mean', 'way', '@undagroundmilli', 'classic', 'jay', 'agreed', '@trent_reznor', 'manila', \"we'll\", 'probably', 'farthest', 'section', 'OK', 'Little', 'Italy', 'bronx', '@BodyWisdomInc', \"Let's\", 'volunteering', 'Dds', 'joining', 'hubby', \"son's\", 'soccer', 'grad', 'party', '+', '@kaylaluvsmusic1', 'WOO', 'omg', 'display', 'picture', 'How', 'mothers', '@momtweetmom', 'Hanging', 'reid', 'lolz', 'bother', '@VPG_Printing', 'promise', 'email', 'trying', 'Beautiful', 'Paris', \"Hilton's\", 'club', 'Lets', 'goes', 'Omg', 'yay', 'Roger', 'Federer', 'won', 'Roland', 'Garros', 'Yaaaay', 'bbq', 'friendss', 'right', 'ya', 'Eatinqq', 'PopCORN', 'shower', 'hour', 'sooo', 'thankz', 'those', 'involved', 'ie', 'sweet-China', 'muse', 'abt', 'mission', 'paisa', 'tomor', 'b', 'interesting', '@claudbernas', '@piaaguirre', 'capacity', ':|', 'bye', 'furrs', 'line', 'alsmost', 'Learn', 'http://twitpic.com/6priy', 'answering', 'emails', 'dad', 'sis', 'Aww', 'family', 'Appreciate', 'bc', 'promised', '@demongirly', 'sleep', 'tweeted', '24hrs', 'LOT', 'happened', 'happen', 'ps', 'niley', 'puppy', 'damm', 'yappity', 'white', 'ball', 'hair', 'mes', 'A8', 'n', 'gettin', 'married', 'July', '10', '2011', '4oclock', 'U', 'invited', 'bring', 'gifts', '@jamie_oliver', 'http://twitpic.com/5onb3', 'Damn', 'couple', 'London', 'huh', 'On', 'Bush', 'Gardens', 'families', 'army', 'allowed', 'MIGHT', 'ride', 'Griffion', 'justin', 'timberlakee', 'whoops', '@gretchenmensing', 'boss', '@scraparcs', 'demote', 'Staff', 'group', 'game', 'favorite', 'Battlefield', '@Lakers', 'SWEEET', 'EXCITED', \"TODAY'S\", 'GAME', '@LyricalLala7', 'wussssup', 'LoL', 'waitin', 'lauren', 'conrad', 'engaged', 'idol', 'northwood', 'yeahHHHH', 'son', 'graduating', 'SUV', 'watcing', 'reruns', 'dragnet', 'adam', '12', '@shreeni', 'Everything', '@katylisajess', 'played', 'orchestra', '@yaseminx3', 'okay', '@officialTila', 'crazy', 'different', \"you'll\", 'feck', 'Fifa', 'Cup', 'USA', 'vs', '1-0', 'Soccer', 'via', '@ksorum07', 'jimmyfallon', 'huge', 'fan', 'yours', 'following', 'HATE', 'Mondays', 'School', 'Work', 'Silly', 'Irrational', 'Hatred', 'album', 'Jorn', 'Lande', 'Im', 'surprised', 'orginality', '@MeganGriffiths', 'packing', 'bag', 'without', 'having', 'jump', 'skilled', 'eh', 'jesse', 'CRAZY', 'Been', 'Heroes', 'Steve', 'succeeding', 'addict', 'Lmfao', 'tabitha', 'ivery', 'whattta', 'dork', 'stressed', 'electricity', 'easier', 'Kathmandu', '@Texskiss', 'Eggs', 'Ham', 'favoites', 'Sam', 'heart', 'Time', 'chores', 'Remember', 're-use', 'recycle', 'save', 'trees', 'buy', 'wombat', 'paper', 'http://tinyurl.com/d8qwdh', 'freakin', 'least', 'lls', 'history', 'xxxx', '@bucksommerkamp', 'else', '@soccershorty10', 'ice', 'cream', 'mochi', 'cross', 'cubbies', 'abut', 'launch', 'myself', 'gardening', 'glorious', '@seoexpertbd', 'Microsoft', 'eying', 'SE', 'market', 'UK', '#bing', '#search', '#microsoft', 'Ahhh', 'signs', 'land', 'crashing', \"Here's\", 'example', 'counts', 'GUINNESS', 'http://twitpic.com/660t2', 'All', 'ask', 'each', 'other', 'drivimg', 'later', '11', 'days', 'til', 'Ash', '@ramblelite', 'true', 'yourself', 'deserve', '@Seahorsemystic', 'year-old', 'alphabeat', 'fascination', 'http://twt.fm/33018', \"everything's\", 'dancin', 'underwear', '@j2theRizzo', '@mileycyrus', 'http://twitpic.com/6dvj4', 'miley', 'congrats', 'woke', 'amm', 'live', 'g', 'Podcasters', 'If', 'syndicate', 'RNZ', 'interview', 'please', 'DM', 'link', 'Or', '#socialNZ', '@torianddean', 'Happy', 'Birthday', 'Stella', '@Babyswags', 'sending', 'way-would', 'luv', 'calling', 'distractions', 'eatin', 'chocolate', 'easter', 'rabbit', \"should'nt\", \"i'll\", 'hips', 'cares', 'Sudden', 'rainstorm', '@csts', \"Can't\", 'Stop', 'Serenity', '5:00', 'Dark', 'Knight', 'use', 'thinks', 'orright', \"wouldn't\", 'hire', 'mcfly', 'danny', 'jones', '@technotetris', 'sitting', 'T', '@icheer24', 'mad', 'luggage', 'orchestrates', 'errors', 'King', 'Kong', 'Running', '@lukasrossi', 'tunes', 'forever', 'listened', 'Lust', 'EP', 'Glad', '#lukasrossi', 'Seeing', 'Star', 'Trek', 'Mew', 'Jono', '$', '9', 'coupon', 'Bandung', 'UMB', 'marisoshin', 'uni', 'faveh', 'soon', 'follower', 'away', '1,500', 'matters', 'woo', 'hoo', '@SharonAshton', 'LOVER', 'hell', 'shhhhhh', 'lets', 'power', 'links', 'absolutely', 'Ballsy', 'snip', 'http://bit.ly/xKMlL', '@dramadupree', '@broy', '@mengkia', 's', 'stint', 'producing', '@BREEZYBABE05', 'lool', 'werent', 'posted', 'youu', 'wow', 'wonderin', 'Pink', 'Eye', 'moi', \"mine's\", '@PlasticSpastic_', '@meowmeow_', 'dear', 'yummy', 'sugar', 'huggies', 'blondies', 'looking', 'brother', '@B_NERD', 'find', 'public', 'health', 'sittin', '@curtiecurt', 'Charmed', 'Raise', 'call', 'poison', 'control', 'twice', 'sone', '31/2', 'TaShA', 'recommended', 'BoGS', 'Cambridge', 'Herb-crusted', 'grilled', 'fish', 'garlic-parmesan', 'potatoes', 'YUMMAAAY', 'dig', '@nicholaspatten', 'Best', 'prize', 'wallpaper', '@ZAGrrl', 'wireless', 'charger', '#Chicago', 'news', 'Next', 'VMS', 'featuring', 'Zee', 'Avi', 'http://www.videomusicsunday.com/zee-avi/', '@wonderwoman9197', 'strong', 'possitive', 'biiig', 'hug', '@sovietkiki', 'Cthulhu', 'glad', 'Lib', 'Dem', 'Especially', 'http://bit.ly/5lxsh', 'Day', 'Everyone', 'Prosperity', 'Abundance', '@CityGirl912', 'oh', 'together', 'members', 'chemical', 'romance', 'bob', \"hasn't\", 'updated', 'month', 'OMG', 'http://bit.ly/On6Bw', 'check', 'pure', 'hottnesss', '@jtbritto', 'Shootin', 'Stardust', 'boys', 'road', 'Manchester', 'Lows', 'better', 'Australia', 'sing', '@KateEdwards', 'Yum', '@himynameisalan', 'exittedddd', 'Freeking', 'xox', 'JUST', 'DANCE', 'Lady', 'GaGa', 'dancing', 'Too', 'stay', 'awake', 'goodnight', 'xo', '@TheAmyBrenneman', 'loving', 'makeup', 'dress', 'Make', '19', 'degrees', 'wishing', 'David', 'g2', 'comes', 'quicker', 'videos', '@AllenBlueLight', 'Goodbye', 'met', 'suzy', 'orman', 'bryant', 'financial', '@howie_d', 'imagine', 'curly', 'adore', 'Leigh', 'shes', 'Angels', 'Demons', '6pm', 'THH', 'practice', 'Dana', 'chicken', 'mashed', 'peas', 'Yums', 'bus', \"tmr's\", 'betta', '@brandonsaller', 'http://twitpic.com/69v8t', 'Seriously', 'Cook', 'does', 'art', 'Okay', '@ezminj', 'http://myloc.me/sYt', '@miss_london', \"n'awww\", 'sweetheart', '@November11_2011', '11:11', '(:', 'care', 'tell', 'COLDPLAY', '6', 'Aaahh', '¥', '@Stubborn_Facts', 'class', '@AnnHawkins', 'Got', 'claustrophobic', 'leave', 'museum', '15', 'minutes', 'lazy', 'lay', 'essay', 'Geography', 'Monaco', 'Music', 'easing', 'pain', 'soft', 'workout', 'skin', '@Rogue_Leader', 'Shame', 'missed', '@TwilightLexicon', 'blog', '#3ImportantWordsTYChris', 'http://bit.ly/WXicS', 'ah', 'freesome', '@LuvAundreaC', 'welcome', 'confused', 'boyfriend', '@KellyRahumagi', 'mis', 'tweetdeck', 'Take', 'poll', 'page', 'myspace.com/jessicakenneymusic', 'Making', 'speeches', 'vlog', 'uploaded', '@thehypercube', 'Friend', 'emailed', 'moment', 'cube', 'contest', 'destiny', 'Wow', 'BOB', 'Toolbar', 'perfectly', 'bidding', 'simple', 'click', '@bangz03', 'yellow', 'fav', 'hbu', '@jchris', 'doc', 'digging', 'search', 'terms', 'Summer', 'Internship', 'painting', 'SMP', 'visiting', 'place', 'hm', '@HMXCasey', 'Any', 'feature', 'geetars', 'la', 'bday', 'Yaay', 'hanging', 'girls', 'Jac', 'kim', 'stef', '@TheEllenShow', 'hey', 'Portia', 'vegemite', 'breakfast', 'Wondering', '@weshotthemoon', 'perks', 'NYSE', 'Ger', '@_HeatherBailey', 'Terminator', 'ReaL', 'LoVe', 'awwwwwwwww', 'SearChin', 'FoR', 'ThaT', 'ReAL', 'LovE', 'Song', 'foR', 'Min', 'heating', 'pads', 'Midol', 'coolest', 'apple', 'slicer', 'Franklins', '@Katebelletje', 'needs', 'fire', \"people's\", 'butts', \"Mazzio's\", 'YAY', '@gabbouca', '@coriluvnthedon', 'blast', 'ATL', ';-)', 'Wanna', 'ALL', 'kiss', 'Donnie', 'Dude', '@viver211', '@KevinFierce', 'runnin', '@wisdomismisery', 'FUCK', 'YOUR', 'BLOG', 'Aight', 'eyes', 'gtg', 'real', 'nitey', 'nite', 'twigga', 'boos', '@rehna_tu', 'general', 'Literary.Do', 'poetry', 'stories', 'articles', 'Dm', 'ing', 'id', 'Us', 'Out', 'Myspace', 'Add', 'www.myspace.com/uniquezhollyhoodgirlz', 'thanxx', '@L_Boogz', 'gmailed', 'letting', 'earlier', 'man', 'AP', 'World', 'History', '@AYS110', '@kenshimizu', 'Youtube', 'Anglo', 'Welsh', 'Rugby', 'Union', 'final', 'http://quocomputer.com/', 'Quo', 'Computer', 'OSX', '86', 'boxes', 'Wonder', 'Apparently', 'store', 'California', 'jess', 'cleaned', 'mii', 'scrolly', 'Camaros', 'wild', 'Cool', 'raining-again', '@AshleyLTMSYF', 'PCD', 'concert', '@pcdmelodyt', 'melody', 'Icha', 'hi', '@tinypinkpoodle', 'places', 'someday', '@OfficiallyAmy', '@woofette30', 'Planning', 'kick-ass', 'movienight', '@mssinglemama', 'singing', 'karaoke', 'Fun', '@BerlyAnne', \"Don't\", 'someones', 'First', 'classes', 'waste', 'already', 'voice', '@Tyrese4ReaL', \"helen's\", '85th', \"jenn's\", '@retheauditors', 'un', 'fortunately', 'mercedes', 'tape', 'deck', 'DVDs', '#newskool', 'Feng', 'Shui', 'Cures', 'success', 'http://bit.ly/YY0MK', '@manobluedesign', '@ingridmusic', 'europe', 'Also', 'Light', 'able', 'fit', 'YOU', 'Save', 'Chuck', 'icon', 'From', 'pic', 'Casey', 'gun', 'Sarah', 'everything', 'tan', 'lines', 'legs', 'shorts', 'angle', '@EvanJHampton', 'fb', \"they're\", 'sum', '@', 'beach', 'volunteer', '@NiceBean', 'heat', 'cooling', 'relaxing', 'far', 'betcha', '@doctorlinguist', 'shells', 'TTY', 'whim', 'politely', 'response', \"He's\", 'Shhhhh', '@crazeegeekchick', 'Somethin', 'http://tinyurl.com/ahvv47', 'coolestdudes', 'thatsmooth', 'storm', 'jazz', 'vibe', 'Fire', '@suckitchelsea', 'countr', 'delayed', 'bullshit', 'shows', '1am', 'here.can', 'reply', 'sbux', 'crew', 'Dragged', 'jordan', '@miligosa', 'exactly', 'four', 'sisters', 'skit', 'saturday', 'YAYYY', 'TOKIO', 'HOTEL', 'WON', 'THE', 'COMET', '@ernmander', 'shucks', '@mbumbal', 'bla', 'ki', 'http://myloc.me/24jY', '@MargoCarmichael', 'Whoa', 'baby', 'Marilyn', 'Monroe', 'Minister', 'Culture', 'Information', 'hafta', 'shut', '@EFTSuzanne', 'JQuery', 'inline', 'graphs', 'http://tinyurl.com/jqsparky', 'words', 'Austin', 'Powers', \"That's\", 'smashing', 'Basil', 'aaaaand', 'action', '@gawatt', 'Nonna', 'laying', 'smelly', 'jewish', 'arse', 'Bizarro', '@butterfly3ffect', 'abby', 'luck', 'choir', 'performance', '@abbasnaqvi', 'F', \"we're\", 'drinking', 'during', '@feminineflip', 'appreciate', 'effing', 'O', 'georgia', '@gnurag', 'gift', 'http://bit.ly/NeLq6', 'ASK', 'ROB', 'IF', 'HES', 'DATING', 'KRISTEN', 'WANNA', 'SEE', 'RUMORS', 'R', 'TRUE', 'X17Live', '>', 'http://ustre.am/39qb', 'mmm', 'experimenting', 'lemon', 'shortbread', 'hard', 'taste', 'pepes', '@crystalclear30', 'Need', 'job', 'freedom', 'change', 'boring', 'wify', '@scripped', 'cure', 'aging', '@pinktank1', 'changing', 'seemed', 'suffered', 'Barney', '911', 'Aussome', '@Jocey17', 'Maybe', 'grow', 'brain', '@jen004', 'amazingly', 'relaxed', 'mention', '@mattiaswikman', 'act', 'faster', 'try', 'Used', 'laptop', 'once', 'update', 'n97', '@secretplanet', 'fair', 'assume', \"here's\", 'mainly', 'insane', '@SHES_BAD', 'kick', 'Fly', 'FM', 'Man', ';D', 'Climb', 'Hitz', 'Flickr', 'Stats', '[', ']', 'entire', 'Photostream', 'Yesterday', 'Chic-Pics', 'attract', '500', '%', '@UnitZeroOne', 'let', 'Singapore', '@ScruffyPanther', 'cracker', 'apparently', 'means', 'Tune', 'lap', 'trumpet', '@macNC40', '@AudreyHix', 'careful', 'suspect', 'forward', 'Say', 'Randy', \"Taubenfeld's\", 'Meets', 'Girl', 'Featuribg', '@Cynthiamanso', \"She's\", 'june', '8th', 'hurry', 'eff', 'cuddle', \"gi's\", 'ridic', 'silly', 'bronz', 'red-neck', 'de', 'invidiat', 'febra', 'musculara', 'somnolenta', 'deci', 'fost', 'reusit', '@XGraceStAcKX', 'Newtown', '4-5', 'gd', 'mates', 'millsy', 'audition', 'sql', '30', 'min', 'ago', 'scary', '@rcawsey', '@planetpit', 'checking', 'dates', '@canadiancollect', 'greatly', 'appreciated', 'must', 'forgive', '@LizzieC', 'Download', 'Donk', \"Tidy's\", 'greatest', 'risk', 'ASB', '0', '@STLPhoto', 'Chihuly', 'Moonrise', 'Swanky', 'summertime', 'livings', 'easy', 'times', 'sushi', 'heaven', 'Woohoo', 'Nom', 'nom', '@c1ndyy', 'HI', 'dando', 'clases', '101', 'FINALLLY', 'OTH', '@Iyarchuleta', 'semester', 'definitely', 'HEAVEN', '@wilw', 'Bang', 'Theory', 'comment', 'Repent', 'episode', 'hysterical', 'PS', 'greenhills', 'web', 'cam', 'ram', '@DjCPmobiledisco', 'word', 'frigging', '@NatalieWent', 'jk', 'juuust', 'figured', '@Bladon92', '@KimKardashian', 'Hope', 'million', '@stevekelting', 'lead', 'singer', 'works', 'term', 'Priscilla', '@marshawei', \"wasn't\", 'L', 'besides', 'course', '@mellownights947', 'buti', 'nalang', 'Mellow', 'pag', 'dating', 'ng', 'cge', 'po', 'aral', 'mode', 'muna', 'ako', 'writing', 'mucking', 'inspired', 'ideas', 'Amazing', 'hide', 'putting', '@shabbychicc', 'rain', 'boy', '@couponprincess', '@brandyellen', '@mkdb', 'given', '#sigjeans', '@erinhuggins', '@confusciosly', 'Itay', 'turned', 'healthy', 'food', 'nut', '@radha_', 'pathetic', 'help', 'bugs', '@From_The_Edge', 'succeed', 'Stay', '@wordgeeksarah', 'daft', 'Blue', 'marbelling', 'clearly', 'priority', 'Drainage', 'rated', 'roof', 'dwn', 'blown', 'bk', 'yey', 'mi', 'cumin', 'hme', '2daii', 'lv', 'telling', 'RSPB', 'team', 'Harewood', 'kite', 'viewing', 'area', '@Birdguides', 'mind', '@JoeyMcIntyre', 'http://twitpic.com/3kb8h', 'energy', 'flu', '@briankelly', 'Oooh', 'fairysnuff', \"Didn't\", 'juggler', 'catch', 'beer', 'ta', 'quick', 'goodbye', 'gig', '@zenmonkey13', 'nope', 'aok', '@tommcfly', 'http://twitpic.com/6g55n', '@cmantito', 'bling', '#linux', '#GNOME', 'desktop', 'http://gnome-look.org/', 'icons', 'themes', 'papers', 'splashes', 'screenlets', 'etc', \"Claudia's\", 'story', 'Unsubscribe', 'swear', 'chips', 'mountain', 'dew', 'throwback', '@cramedogg', 'nuggets', 'em', 'kidding', '@RDBONES', 'Roy', '@themomjen', 'NOT', 'PMSing', '@donniewahlberg', 'poker', '@mimi_intheworld', 'evening', 'compliment', 'turn', 'phrase', \"ur's\", 'surprise', 'amanda', 'yas', 'CHEERIO', 'EVERY', 'forreal', '@realin', 'Ambala', 'Awrrsome', 'Thats', 'hours', '@AFROgliuck', 'Doors', 'Pebble', 'Penguin', 'Flashbacks', 'childhood', '@maisabelhiggins', 'answer', 'yeeesssss', 'hoooommmeee', 'weeeeee', 'hahahahaha', '@myopicweasel', '@CHRISDJMOYLES', 'menu', 'rice', 'fried', 'kering', 'tempe', 'spicy', 'sauce', '20', 'deep', \"head're\", 'wide', 'ordered', 'Opening', 'Game', '2010', 'Ice-Hockey', 'games', '@AgentSullivan', 'Five', '@Pixiemevintage', 'overhere', 'paris', '^', 'dunno', 'quit', '@laelene', 'valid', 'embarkation', 'card', 'hoping', '50', 'Moon', 'Trailer', \"g'night\", 'smart', 'ones', 'http://publius772000.wordpress.com/', '@KaraSaysSo', 'Except', 'neither', 'features', 'drift', 'sang', 'Sunshine', 'mom', 'Finishing', 'alfresco', 'football', '@djprostyle', '@boricuajimmy', 'safe', 'computer', 'poster', 'Optimize', 'HTML', 'CSS', 'JavaScript', 'interface', 'Enjoy', 'www.acutr.com', 'Submit', 'feedback', 'joy', '@zebrabutt', 'bud', 'light', 'Lol', '@soniyag511', 'heading', 'Linda', 'Beach', 'Boys', '@Emmkat', 'Aw', 'Japan', 'originally', 'Edinburgh', 'warm', 'Penny', 'drops', 'feeling', 'trivia', '@crosshaire', '@chibischala', 'ahh', 'downtown', 'towards', 'waikiki', 'tierd', 'life.Ugh', 'goodnight.So', 'sleeping', '@jupitusphillip', 'triangle', 'Ting', '@TshirtViolation', 'neon', 'green', 'helping', 'moved', 'offices', 'banging', '@lauriek', 'Wolfville', 'nearest', 'community', 'called', 'Pereaux', 'Blomidon', 'Prov', 'Park', 'Drinks', 'including', '@mmac', 'Recording', 'Studio', 'tomoro', '@AmandalovesHBK', 'TED', 'laucnhes', 'http://www.ted.com/tedx', 'dirty', 'tricks', 'twisted', 'zoo', 'aths', 'thursday', 'high', '@laksmitatia', 'wah', 'syng', 'bgt', 'tuh', 'Yeah', 'galaxy', '@NYCgirlygirl72', 'Honeybun', 'gained', 'lb', 'typing', '@sinfulsignorita', 'exceptional', 'pictured', 'magical', '@GENeralization', 'weekdays', 'weekends', 'wherever', '@lil_laurel', 'brightened', '@LincolnukLGBT', '@4everBrandy', 'MORE', 'Asian', '@yellani', 'messaged', 'stat', '@jpetroroy', 'madhouse', 'fingers', 'toes', 'crossed', 'pull', '@youmakemehappy2', 'beans', 'listed', 'commission', \"Sandii's\", 'Luved', 'Tired', 'tho', 'xxx', '@marxer', 'bringing', 'advise', 'chop', '@spazzyyarn', 'lineup', 'TEB', 'Korean', 'busy', '@chiropractic', 'Ask', 'tweeple', 'answered', '@masalaskeptic', '#followfriday', '@palato', 'NYT', 'shot', 'editor', 'loves', 'twittr', 'backpocket', '@gulpanag', 'GO', 'GURL', 'ENFIELD', 'Which', \"I'd've\", 'never', 'Gul', 'enfield', 'Awww', 'came', 'She', 'adorable', \"week's\", 'movies', 'ticket', 'Sandpit', 'Early', 'child', '7:30', 'college', 'ad', 'Dragon', 'Con', 'hotel', 'booked', 'rail', 'rate', 'stand-up', 'material', 'feels', 'returning', 'roots', '@androidtomato', 'Helloooo', 'ladies', 'Chilis', 'Caralines', '@WomenGunOwners', 'pla', 'mor', 'shelby', '@bigcox', 'R1', 'Neighbors', 'upstairs', 'stomping', 'cranked', 'loud', 'They', 'quieted', '@hollygotigers', \"you've\", 'BAD', '@emmahockney', \"when's\", 'NYAAA', 'buffering', 'wheee', 'Oohhhh', 'shinny', 'Walkin', 'mum', 'redcar', '@rom', 'SF', '@angienewton', 'set', 'Use', '. . .', 'Huh', 'Its', 'sound', 'HOOKAH', 'Hehehe', 'replies', '@squink', 'Hehe', 'talked', 'Tyler', 'Off', 'confirmation', 'Sunday', '@jojowright', 'http://twitpic.com/4w24f', 'ooh', 'score', 'jojo', '@bumonkee', 'inadvertently', 'showed', 'customer', 'demo-ing', 'case', '@showMe_Heaven', 'al', 'iras', 'cncierto', 'stoop', 'takers', '@bweintraub', '17', '65', 'Very', '#tcot', '@ElizabethDunphy', \"all's\", 'rather', 'large', 'pile', 'mulch', 'keeps', 'screaming', 'spread', '@carosparrow', '@msptweetup', 'YO', 'invite', '@marin_ostojic', 'laterr', '@TypeKast', 'smarter', 'shutter', 'shades', '@PipBeale', 'Soup', 'soup', 'Whatever', '@omgrrr', '@Sunshineliron', 'st.patrick', 'burning', 'blister', 'three', 'Cash', 'Leaving', 'Outer', 'Banks', '4:30', 'updates', 'Catching', 'slept', '10:00', '@WhitneyHJ', 'SHOUT', 'OUT', 'BITCHES', 'W', '18', 'INCH', 'TRACKS', '@dianaramlan', 'hye', 'dena', 'penang', 'baru', 'hence', 'jakun-ness', \"u're\", 'PD', 'melaka', 'hmm', 'poutine', 'cart', 'Enercity', 'script', '@LuvTheAnimals', '@duhovel', 'lost', 'company', 'caramel', 'crisp', 'p0ppin', 'bar', 'Trip', 'Newbies', '@DwightHoward', 'season', 'MVP', '@dragonflyeyes', 'Where', 'Drawn', 'Together', 'inappropriate', 'carton', 'Countdown', '200', 'Stake', 'Tournament', 'god', 'ROOMMATES', 'arrived', 'Makati', 'Prince', 'Tennis', '@yunfa', 'retweet', '@drewmeyers', 'closed', 'Thinking', 'mother', 'extreme', 'junk', 'eating', 'debut', '@kingflea', 'ill', 'gimme', 'mines', '444', 'GOODNIGHT', 'TWITTER', 'WORLD', 'AM', 'EXHAUSTED', 'hectic', 'T_T', 'HS', 'possible', 'fruit', 'realllllllly', 'waking', '5k', 'Cancer', \"doesn't\", '@marypascoe', 'commented', 'noon', 'D', '@boozby', 'manager', 'EVERYDAY', 'http://twitpic.com/6tp9a', 'face', 'Irda', 'nails', 'painted', 'Transformers', 'trailer', 'Nth', 'http://bit.ly/xtbUH', '@realmfox', '@escurel', 'jessiebear', 'names', 'joint', 'PCB', 'Forum', 'linked', 'insight', 'board', 'design', 'Monkey', 'Island', 'Secret', 'remade', 'XBLA', 'NEW', 'developed', 'Telltale', '#xboxe3', '#e3', 'Here', 'Stephanie', 'Jericho', 'fiction', 'http://pearlsfictions.blogspot.com/2009/06/so.html', '@sookyeong', 'mv', 't_t', 'nonetheless', 'aaaa', 'gotta', '@ozdj', 'avatar', '@MistressB', 'loss', 'teens', 'cutest', 'frederick', '@MariaBentley', 'madame', '@gorgeousgg', 'yup', 'rainy', 'BIRDS', 'BEES', 'SUBSCIRBEEEE', 'tellin', 'fou', 'uncle', 'invented', 'Mustard', 'Pizza', 'owned', 'pizza', 'shop', 'Chambersburg', \"Schuster's\", 'Tomato', '@KalebNation', 'Your', 'Blog', 'Actually', '@moonkittynet', 'posting', 'wind', 'halo', 'wings', \"king's\", 'island', 'Twist', 'actual', 'joke', 'http://txtb.in/2T7', '@Olly09', 'yo', 'O-Dog', 'Codex', 'wondering', 'wanted', 'something', 'John', 'Paolo', 'BEST', 'FRIEND', '@zomgzjessjames', '@danilawr', 'dears', 'kitten', 'kittens', 'allergy', '@haldira', 'awww', \"won't\", 'entertain', 'entering', 'loove', 'peanut', 'jelly', 'sandwich', 'addicted', '@charlenewithit', 'responding', 'Already', 'gurrrl', '@dottylulu', 'angus', 'chanter', 'BABE', 'yayyyy', 'lunches', 'request', 'homeys', '@tjcornwall', 'abbey', '@lyricsmode_com', 'passion', 'whole', 'trash', '@mcflyharry', 'alive', 'truthbox', 'things', 'www.myspace.com/spider_monkey_xx', '@cinthyasahid', 'xcited', 'tp', 'deg', '2an', 'jg', 'nggu', 'pngumuman', 'itw', 'dian', 'harapan', 'krwci', 'Gw', 'd', 'ckrg', 'Hahaha', '@misterdevans', 'Cinderella', 'studio', '@SHEBYTE', 'Either', 'Same', 'liqueur', '@iamjonathancook', '@SupportMiley', 'coincidance', '@james_hamiltron', 'bum', 'hehe', '@kolsch', 'messing', '@DJ2TONE', 'WOW', '@MissKatiePrice', 'xxxxxx', '@Malerie', \"Couldn't\", 'shining', 'garden', '@LTAjoints', 'hit', 'fictional', 'access', 'titled', 'Sinking', 'Feeling', 'TWEETER', 'WTF', 'TORI', '@hustvedt', 'adjust', 'Boston', \"we've\", 'tweet-corrupted', '@JordanCley', 'asking', 'HK', 'thru', '@bratinella', 'karen', '@R3NZO', 'Straight', 'FIYAH', 'Rae', 'Rock', 'Bells', 'goin', 'installed', 'twitterberry', 'holla', '@crystalchappell', \"weren't\", 'GPS', 'lady', 'Topanga', 'Canyon', 'technology', '@theBrandiCyrus', 'Want', 'Ir', 'AWESOME', '@green_i_girl', \"Mother's\", '@mokargas', 'Hmm', 'Gravy', 'drools', 'Insanity', 'sooooooooooo', 'underated', 'boobs', 'cuddlecuddle', '@lust147', 'Waaa', 'knah', 'yuh', 'aw', '@HeckDoodleCake', 'Hahah', 'mini', 'veeery', 'tanned', '@iamtaylorsmith', 'Suck', 'LRC', '80', 'finishing', 'handing', 'academic', 'assignment', '@pnear', 'goonies', 'popcorn', 'iTunes', 'Quick', 'http://support.apple.com/kb/HT1222', 'http://support.apple.com/kb/HT3520', 'Dtrapper_jon', 'ted', 'lou', 'cash', '@Arbenting', 'above', 'dock', 'space', 'organize', '@LatteDKyd', '@Greatie', 'quite', '@mahlerfan2', 'Trent', 'Reznor', '26', 'years', '@AgentDGW', 'Nice', 'du', 'CONGA', 'methinks', 'boat', 'rocked', 'immense', '@DavidArchie', 'jingle', 'celebrity', 'none', 'genuinely', 'Spending', 'cleaning', 'HOT', '@aweee', 'Bom', 'dia', '@Avril0407', 'loreal', 'alvive', 'anti', 'break-age', 'totaly', 'silky', 'shave', '@SmokeyBonesBar', 'VIP', 'Waterford', 'Lakes', 'sexy', 'Hopefully', 'Chrysler', 'restarts', 'Viper', 'plant', 'midlife', 'crisis', '@Scobleizer', 'PR', 'many', 'person', '@renee1112', 'referring', \"shouldn't\", \"name's\", 'opinion', '@BIG_TONE', 'Jb', 'sweetest', '@UneBelleFemme', 'recently', 'facebook', 'acct', '@morenito82', 'prodigy-smck', 'bitch', '@DMAKron', 'break', 'Miss', 'Janet', 'Evanovich', 'Jodi', 'Picoult', '@CT3GUITAR', 'trust', 'About', 'Hang', 'Sadey', '@b4babynames', 'ssnta', 'clause', 'twitterville', 'grand', 'strand', 'Lots', 'few', 'comatose', '4am', 'wake-up', 'proverbial', 'grind', '@cameronreilly', 'treaties', '@jeanniefeed', 'Yep', 'DIME-ish', 'Great', \"john's\", '@cloudmustaches', 'noodles', 'japan', 'eats', 'dog', 'ears', 'chloe', '@ElliottShilling', 'homie', 'senior', 'prom', 'churchie', 'get-togethers', 'strangest', 'bunch', 'indians', 'combo', '@iNishaBoo92', 'http://twitpic.com/65okz', 'believe', 'bratty', 'tbh', 'Boyle', 'overrated', 'ohhh', 'controversial', '@missashers', 'nachos', '@taylorswift13', 'cameo', 'MTV', 'award', 'opening', '@aleortega', 'Unless', 'starts', 'become', 'fruitless', 'endeavor', 'it--with', 'guide', '@MissJizzle', \"YOU'RE\", 'WELCOME', 'rachel', 'tyler', 'shelf', 'http://twitpic.com/4isn0', '#trance', '@ARealist', 'thoguth', 'Arabic', '@jonshell', 'stricken', 'guy', '@joeymcintyre', 'download', 'LGTF', 'Toronto', 'alrighty', 'imma', 'nowww', 'yummmmm', 'mcspicy', 'meal', 'social', 'media', 'http://bit.ly/lnktE', 'BBS', 'IRC', 'ICQ', '@betsyweber', '@simchabe', 'An', '@Newsage', \"followfriday'd\", 'engage', 'profile', 'grateful', 'http://bit.ly/ZEwEZ', '@RoxOnFox', 'looked', 'student', 'Trinity', '#fb', '@mrsteveharvey', 'loved', 'alot', 'advice', 'front', 'door', 'open', 'With', 'moms', 'laptops', 'table', '@headshotmistres', 'Aaron', 'ballroom', 'donate', 'Chris', 'passed', 'Math', \"he'll\", 'Saturday', 'relief', 'PSML', 'coz', 'Harri', 'Amys', \"b'day\", 'Beauty', 'geek', 'Beautys', 'dumb', '@AubreyODay', 'Celtics', 'stolen', '@Ceena', 'pleasure', 'LOLing', 'Jeep', 'Arnold', 'You-Can-Do-It', 'TV', 'Ad', 'nicely', '@taylor_blue', 'meeting', 'wants', 'laker', 'parade', '@SeviDesigns', 'edit', 'suite', 'TVOne', 'Exporting', \"DVD's\", 'Hours', 'degree', '@fmansell', 'Would', 'proud', 'Viola', 'returned', '@MrStansell', 'Photo', 'becauseimtaylor', 'NEED', 'HAVE', 'http://tumblr.com/x6a1xdcud', 'claire', 'balding', 'Wimbledon', 'radio', 'noticed', 'Eric', 'MayMay', 'KelsKels', '@ZnaTrainer', 'raising', 'bottom', '@RQOCJD', 'hack', 'mainframe', 'database', 'unban', 'WILL', '@tibibit', 'congratulations', 'arrested', 'Cutest', 'Covers', 'http://twitpic.com/6ux0p', 'http://twitpic.com/6ux32', '@FoxxFiles', 'promo', 'Having', 'Deadliest', 'Catch', 'Netflix', 'streaming', 'comics', 'draw', 'http://twitpic.com/69uxc', 'shoe-love', '@sianknitter', 'bloody', 'peach', '@NekoNarkster', 'Sometimes', 'Dont', '#chaser', 'eps', 'kudos', '@EastCoastGamblr', 'urgh', 'brekkie', 'o', 'j', 'mite', 'wake', '@GraphicsGeek', 'Tomorrow', 'Imma', 'related', 'item', 'loft', 'present', 'girlfriend', '@zebracourtney', '@FenricWolf', 'Am', 'Wednesday', 'thankfully', '@KrisAllenmusic', 'article', '@kazwccsocialnet', 'Anyway', '@Sparkla', 'teehee', 'told', 'blame', 'worry', '@yuhngfresh', 'waz', 'FUNNY', 'type', 'male', 'tag', 'wehave', 'herr', '@DJTGUTTA', '@emdanyell', 'dooo', '@annlang', 'yikes', 'loads', 'Cant', 'TGS', '@timminchin', 'ages', '@DancingRocks', 'plan', 'wear', 'Chrisette', \"Michele's\", 'cd', 'heavy', 'rotation', 'Think', 'fave', 'chillinnnn', 'http://twitpic.com/6uako', 'nephew', '@knealemann', 'beta', 're', 'gmail', 'likee', 'lott', '(8', '@milehiclub', 'spending', 'lostock', 'Office', 'Cait', 'midnight', 'bike', \"adam's\", 'Slash', 'Adam', 'collaborate', 'WIN', '@daisyx', '@rowiro', 'quote', '@DarkStarbuck', 'Ripping', 'uploading', 'Vool', '@snipeyhead', 'Freakin', 'brilliant', 'tacky', 'pull-quote', 'mile-long', 'squeeze', 'pages', 'http://yfrog.com/7gw2ij', 'reunion', 'realli', 'couldnt', 'geog', 'lesson', 'ONE', '@lochnessie404', 'aunt', 'Alice', 'GreencullenHale', 'Twin', 'GIRLS', 'amount', 'stars', 'files', 'young', 'cried', \"Chris's\", 'jersey', 'tweeties', '@moriddim', 'curve', '@JadoreMarmite', 'Award', 'product', 'http://bit.ly/nfgLL', '->', 'TomTom', 'XL', 'IQ', 'Routes', 'Edition', 'spree', 'Burtons', 'penny', 'missin', 'cp', 'yesssir', 'Arrods', 'belong', '@Awesome_Tie', '@Ylice', 'ty', '<--', 'Blushing', 'Sun', '31', 'NYer', '@kenpm', 'sites', '#Win7', '#AbortionTuesday', 'abortion', 'suzanne', 'hardly', 'Ahh', 'saved', 'lawn', 'plenty', 'kayaking', 'Blessed', 'gods', 'awsome', 'parting', 'chrystal', 'strait', 'bestest', 'watched', 'x-men', 'origins', 'wolverine', 'greeeat', 'fam', '@WatariGoro', 'Noooooo', '@Melissa808', 'asked', '@heysonnie', 'transgender', 'bisexual', 'folks', 'Binary', 'dangerous', 'Lalala', 'Ok', '#green', '#comedy', 'racist', 'against', 'http://short.to/cbv7', '@talesfromthepit', 'Loved', 'MusiCares', 'event', '@jazzjeppe', 'sunshine', 'http://blip.fm/~7scg8', '@hasyya', 'Approved', '5:30', 'comin', '@red_annie', '@Abbie12', \"let's\", 'pray', 'Ester', 'Advance', 'safely', '@GeneralProfound', 'Exactly', 'Updating', 'raise', 'limit', '@AmandaHarkin', 'HECK', 'YEAH', 'THEY', 'ARE', 'Me', '@TheLooseCannon', 'ummm', 'Saint', 'Motel', 'dublin', 'pleasanton', 'bart', 'pick', 'Brittany', 'Urbina', \"Ferny's\", 'fixing', 'Thanx', '@Greyseer', 'RP', 'server', 'recommendations', 'Howdy', 'win', '@andyb56', 'followfriday', '@JRtheDoc', 'sport', 'talk', 'Tea', 'Ginger', 'Hot', '@kirstytbsmcr', 'exams', \"aren't\", '@VConfections', '@SpokeWithPics', ':/', '@mulberrybush', 'growing', 'bees', 'flat', 'everybody', 'dreams', 'Looking', 'heavens', 'style', \"Patrick's\", 'creative', 'photography', 'Lyon', 'France', 'http://is.gd/NLZq', 'http://twitpic.com/6b8cj', 'Loving', 'miyazaki', 'surf', 'rides', '@The_fixer', 'VERY', 'pleased', '@ohheyimheather', 'tomorow', 'grab', 'Keri', 'Hilson', 'Album', 'http://tinyurl.com/ove3aq', '@treaclelove', 'Dedicated', 'Pacific', 'Was', 'Right', 'Woah', 'Kinda', 'Late', 'Only', '3:18', 'Pm', '@renrew', '@tburritt', 'Danger', 'Taco', 'Bell', '21', 'THAT', 'guarantee', '@roguetrooperr', 'mate', 'star', 'studded', '80s', '@valagnew', 'might', 'share', 'colouring', 'Ha', '@katyperry', 'Video', 'Youu', 'Katyyyy', 'Beck', 'Kings', 'Leon', 'Iron', 'Maiden', 'tivo', '@onejan84', 'rockin', 'hahah', 'barbie', 'diamond', 'castle', '@phjoshua', 'Of', 'Payday', '@eunice007', 'sense', 'Miguel', 'saying', '@DannyjClayton', 'wars', 'BOO', 'HAND', 'IT', 'OVER', '@Toyota_GB_PR', 'Alternatively', 'expand', 'minds', 'beyond', 'comprehension', 'boom', 'Maya', 'drawing', 'cats', 'http://twitpic.com/7hcj0', '@CottonCandyKiss', 'added', 'hearty', 'frnd', 'v', 'Headed', '@kieranyo', 'Excellent', 'http://twurl.nl/0tmp67', 'Llandow', '17th', 'pop', '@atrain2324', 'kill', 'feed', 'unfollowing', 'lame', '@SunnyNici', 'Hubby', '9am', 'Naked', '@iarebinky', 'stll', 'Robert', 'Pattinson', '@laurensbite', 'depends', 'pampers', 'failed', 'physics', 'meh', '@humbug83', 'Aaaaw', 'ye', 'hugs', \"It'll\", 'exciting', 'Vettel', 'pole', 'overtakes', 'race', 'accidently', 'dogged', 'bobbie', 'comfortable', 'http://www.twitpic.com/6hspa', 'yeahh', 'fact', 'telented', 'CONGRAtS', '@MissNanaOnline', '@Jonasbrothers', 'Y', 'Lines', 'Vines', 'Trying', 'Times', 'waitinGgggGgggggggg', 'business', 'DJ', 'teaching', 'Emily', 'Sudoko', 'eanough', 'kidos', 'babys', '@ariannaxmychem', 'mo', 'botanical', 'gardens', 'wheels', 'dodging', 'airborne', 'balls', 'Since', 'Sigh', 'tweeps', 'thankful', 'hurts', \"g'nite\", 'http://blip.fm/~6sw29', 'dion', 'eyedrops', 'http://is.gd/12JJP', 'shoutout', 'GKmasters', '007', 'Supercoolb', 'enjoyed', '@xLoveableFreakx', 'LMFAO', 'bananas', 'ahaha', 'areee', 'thankiies', 'cristina', 'aguliera', 'ILYSSSSM', 'WORK', 'Mode', 'shoot', 'rained', 'Weather', 'gurus', 'thoughts', 'Fort', 'Wayne', '6-8', 'PM', 'Thx', '@SupereeeGO', 'rad', 'shitty', '@mowleynah', 'fucking', '@311', 'reminds', '11-4', 'tmrw', 'Rockos', 'Tacos', 'soooo', 'cafÃ', '©', 'Phenomenal', 'pen', 'notebook', '@DavidKirlew', 'commitment', 'FB', 'ignore', 'carousel', '@omgitsclare', 'HAHAHA', 'alright', 'Ride', 'temp', '8.2', 'max', '12C', 'Punctures', 'Mike', ');', 'Wind', 'variable', '10mph', 'Mood', 'buoyant', '@chrisannabanana', 'pcd', 'aside', 'nicole', '=D', 'pls', '@danalar', '@Numreen', 'Ubuntu', '9.04', 'disc', '@fakerpattz', 'Sorry', 'Were', 'Close', 'Invited', '@kayhanley', 'hai', 'pritttiii', 'actory', 'hands', 'mood', 'whoop', 'FINALLY', 'Multistory', 'http://www.multistory.org.uk', '@algebraoverdose', 'AKGB', '@lillie_80', '@crazybilly', 'TTYtter', 'Relevant', '@thedirtyblonde', 'Mui', 'importante', '@kirste', 'artwork', 'Heeeat', 'cooold', 'heeeat', 'frosted', 'flakes', 'world.Last', 'celbrating', 'gooood', '=/', '@Jinxie_G', 'sometime', 'Ever', 'development', 'vacations', 'http://bit.ly/u8X5R', 'nutritionist', 'knew', '4breakfast', '@3am', 'hepi', '14th', 'bufday', 'Mia', 'created', 'adding', 'TwitPic', 'nurse', 'extern', '@troytaylor86', 'Trey', 'songz', 'mixtapes', 'alwayz', 'CRACCCCCCKKKKKK', 'reach', '96', 'goal', '@officeranni', 'macquarie', 'centre', '@HOTTVampChick', 'lmao', '@datadirt', 'spell', 'rivalsforever', '@racheltrue', 'Wish', '@ABVan', 'hotness', '@CSI_Talent', 'analogy', '@colezz', 'cos', \"that'd\", 'cooll', 'havin', 'blond', 'flipz', 'hurr', 'hungry', '@bookieboo', 'taught', 'shirt', '@Dana_DoNanza', '@ct415', '@nkotblockhead', '@knightgirl', 'sookie', 'stackhouse', 'series', '@vessel2219', 'finding', 'weird', 'sends', 'msg', 'daddy', 'ear', '@MissPirata', 'que', 'eso', 'spanish', 'weak', '@mellow_knee', 'study', 'joi', 'din', 'nou', 'examen', 'tax', 'Sprained', 'ankle', 'footy', 'limp', 'metro', 'stinks', 'Probably', 'small', 'delay', 'Ew', \"Mom's\", 'cooking', 'giving', 'nutrition', 'unladylike', 'gas', '@fmajormfs', 'AFRAM', 'Ugh', 'SOOOO', 'sad', '@NenyS', 'Farrah', 'Fawcett', 'died', 'angel', 'RIP', '@billyraycyrus', 'Argentina', 'OUR', 'dream', 'idk', '@Cari_tx', 'James', 'Patterson', 'reading', 'street', 'paved', 'carry', 'furniture', 'Playing', 'putt', 'Lost', '1-2', 'Jund', 'aggro', 'thoughtseize', 'maelstrom', 'pulse', 'sweep', 'mop', 'wel', 'l', 'checked', 'bear', 'hes', 'asleep', 'noddy', '@ckfish', 'sunglasses', 'bummed', 'apartment', 'julian', \"we'd\", 'wot', 'oprah', 'dr.phil', 'ellen', 'tom', 'chantelle', 'bill', 'georg', 'gustav', 'driving', 'horse', 'afterall', 'pouring', 'frost', 'windows', 'suspected', 'MTC', 'GPRS', 'shout', 'nevercd', '@chochocamacho', 'older', 'internets', 'sick', 'appointment', '@cbadov', 'Monk', 'favourite', 'detective', '@msnette13', 'intervention', 'Meka', 'taxes', 'disability', 'security', 'Taxes', 'Ryan', 'saaaaaaad', 'panda', 'Dear', 'Bk', 'y', 'halfway', 'broke', 'tearz', 'hates', 'friendz', '@ReaganGomez', 'childish', 'petty', 'feelings', 'welfare', 'fall', '@GrafittiMySoul', 'wednesday', 'nervous', 'drama', 'independently', 'wealthy', '@Jenny_Mejia', '@AnthonyCallea', 'recommend', 'Adriens', 'plane', 'http://mypict.me/2YF1', '@astronautki', '45', '@theKaceyLynn', 'consolation', 'fucked', 'LeBron', 'Danny', 'Ferry', \"There's\", 'alone', '@LeiRock', 'RED-I', 'sunburned', 'neck', '@Breeezzie', 'truck', 'Texas', 'cry', 'http://myloc.me/5zon', '@imsoharlembitch', 'frustrated', 'waited', \"what's\", '@warpedreporter', 'surveys', 'addresses', 'possibly', 'surge', '@fluffy_d', 'sucks', 'moving', ';-(', 'scool', '. . . .', 'sooooooo', '@McRiddlahpants', 'factor', 'holdin', 'achievin', 'boooo', '@xxLontexx', 'Maaan', 'commercials', 'usually', 'online', 'air', '@jayde_nicole', 'Jermaine', '1492', 'bakkkkkkk', 'FML', 'EVER', 'FOB', 'Why', '@JaylaStarr', 'mail', 'pleasee', 'awhile', 'stop', 'leaving', 'resr', '@TheiPodKid', '@johnmjones', 'loot', '@chefmorrisbuck', '@kendrajaderossi', 'fly', 'Alaska', '10th', 'Disneyland', 'transferring', 'bib', 'Tri', 'stomache', 'tree', 'cut', 'whyyyyyyy', 'San', 'Fran', 'airport', 'anywhere', 'BTW', \"SFO's\", 'wifi', 'garbage', '@omgitsSOB', 'neber', '@yelyahwilliams', 'stressful', 'psychological', 'poor', '@ronanofficial', 'awwww', \"y'all\", '@reneengstrom', 'DAWW', 'Anders', 'Johan', 'ADORABLE', 'sentence', 'struggling', 'muster', 'Doing', \"Marshall's\", 'CV', 'cover', 'letters', '@ajresq', 'repair', 'mid', 'afford', 'connector', '@graff_king', 'nooo', 'hated', 'tackle', 'growth', '@thevowel', '@muidlatif', 'muid', 'receive', 'anythg', 'slipped', 'ankles', 'Hmmmmmm', 'Snuggly', 'anyonee', 'onn', 'thereÂ', 'cuz', 'BF', 'PE', 'volleyball', 'http://plurk.com/p/x79ks', '@Kromegmm', '@DonnieWahlberg', 'cheer', 'whilst', 'grumps', 'shake', '@Ames1103', 'blocked', 'peeps', 'imminent', 'deadlines', 'Sad', 'interns', 'Thai', 'minute', 'drinks', '@raidstar', 'Laura', 'winary', 'king', 'valley', 'Claire', 'Erica', 'twitterr', 'Dave', \"KDWB's\", 'sooooooooooooooooo', 'Laddie', 'dead', 'Tumour', 'aots', 'plants', 'zombies', 'dun', 'bucks', 'shuttle', '@ryanbader', 'Bummer', '@kissability', 'wowsers', 'Assignments', 'Dilema', 'Club', 'Ode', 'cramming', 'finaaaals', 'Hiccups', '@manda3240', 'smiley', 'harry', 'creepy', '@__JulieDreamer', 'theo', '@thegame123', 'months', '@riskybusinessMB', '@jennyinthemix', 'stood', 'Recession', 'recession', \"Dharmawangsa's\", 'spa', 'traditional', 'lulur', \"Kid's\", 'videogame', 'froze', 'browser', 'entered', 'grant', 'application', 'form', 'scene', 'Alienated', '@feliciaday', 'dared', 'Busy', '2day', 'twin', '60th', 'togther', 'throat', '@WC89', 'kind', 'WHATS', 'PROBLEM', 'ringing', 'yer', 'messin', 'shirls', 'usb', 'pc', 'noo', 'black', 'shrug', 'mall', 'wearing', 'BCBG', 'scared', '@mikeyriot', 'dishwasher', 'exploded', '@StealingKitty', 'Megan', 'Fox', 'Jon', 'Kate', 'divorcing', 'reality', '@langfordperry', 'Idk', 'random', 'dp', 'plus', 'rolls', 'arent', 'dark', 'soya', 'norrrappppy', 'Uggh', '@freepbx', 'suggestion', 'offline', 'refund', '@SkywayAvenueXx', 'Business', \"IT'LL\", 'BE', 'SOON', 'PRAYIN', '@Joykuh', 'hunny', 'anymore', '@DebHalonen', 'theres', 'everywhere', '@susiebubble', 'storming', 'bootie', 'k', '@soverall12', 'swine', 'platform', 'atlantic', 'ave', 'smells', 'Old', 'Spice', 'Aqua', 'Velva', 'Black', 'smell', 'mile', '@jellybonesss', 'ohmmygosh', 'D:', 'youtube', 'Limit', 'favorites', 'mittens', 'tearing', 'uo', 'co-pilot', \"she's\", 'camp', '@lillyfbaby', 'brotherly', 'BFFz', '@amgentry', 'Nope', 'Ughhh', '@SuperSandra', 'UMass', 'wtf', 'freo', \"everton's\", 'WINNING', 'Mourning', '@AceyBongos', 'xbox', 'avatars', 'Bad', '#iphone', 'crashed', 'upgrd', '3.0', 'vid', 'bks.Still', 'preupgrade', '@bretfriedrich', 'enzo', 'kicking', 'focusing', 'peeing', 'hangin', 'playin', 'tooth', 'fiirrrreeee', 'catching', 'cold', 'jukebox', 'goooo', 'communication', 'FAIL', '@jonasbrothers', 'http://twitpic.com/6q1om', 'watchign', 'upsety', 'dislike', 'timings', 'stretched', 'programs', 'developments', 'operating', 'tight', 'schedule', 'tattoo', 'dnt', 'headache', '@_dirtytalk_', 'praying', 'cudi', 'nackered', 'amy', 'mornin', 'france', 'living', 'australia', 'nz', '@mallyfever', 'Static', 'iPhone', 'app', 'spammy', 'categorized', 'missing', 'edges', 'Dumb', 'dumber', 'comedy', 'central', 'crap', 'crash', 'ssoon', 'slee', 'havee', 'Tried', 'fail', \"friend's\", 'accident', 'Brooklyn', '@l3uttaflykisses', '5am', 'deseased', 'patients', 'cheap', 'Tuesday', 'greattttttttt', '@violetposy', 'stays', 'dumped', 'production', 'headed', 'atl', '@randallane', '@crunchyk', '@ebassman', 'yelled', 'sworn', '@TraceCyrus', 'trace', 'jealous', '@Audio_Rush', 'wells', 'complain', 'aboutt', 'Rainy', 'Philly', 'wrinkle', 'nose', 'However', '@HannahGx', 'hannnah', 'understand', 'mag', 'letter', '8', '@Y2Amber', '@thegraduate09', 'bb', 'heya', 'upset', 'both', '@Sexyjoy386', 'headace', 'fairly', 'uneventfull', '@dunkywife', 'twit', '@aplusk', 'reaching', 'mil', '1st', '@ponyy', 'noice', 'jut', 'tear', 'baaaack', 'maths', 'Nah', 'sarah', 'marshall', '@jcstud_28', 'Irritated', 'Better', 'Things', '@6uy', 'tough', '@SaywardRebhal', 'years--my', 'low-sodium', 'diet', 'recipe', 'Bye', 'Stilll', 'b4', 'battery', 'ttyl', 'tweeters', 'lift', 'rubbish', 'soaked', 'wash', '@monica_m_', 'outta', 'habit', '@mialegria', 'DMs', 'twitterverse', 'clueless', 'Xfiles', 'Rippin', 'drained', 'surely', 'directly', 'reaches', 'phplurk.com', 'http://plurk.com/p/y4yh7', 'twitpic', 'caption', 'photo', 'Hates', 'aka', 'choclatey', 'Dove', 'goodness', 'grrr', 'messed', '@LordShaper', 'ack', 'serious', 'cured', 'relatively', 'quickly', '17.5', 'wasnt', '90', 'aching', '@mszjoycii', '@darkmindedsith', 'RWC', 'fever', 'clammy', '@jbairy', 'traffic', 'horrendous', 'unfort', 'DC', 'frowning', '@wlauw', '@NikkiH', 'tonites', 'Last', 'changes', 'procrastinating', '@love_houst', 'Stornoway', 'lolx', 'Taking', 'Kingston', 'off-season', 'Nicole', 'Kidman', 'robot', '@misskoneko', 'hun', '@Angels', 'disappointed', 'Carmelengo', 'sacrifice', 'Vatican', 'Fever', '102', 'lying', 'fuzzy', 'blankets', 'pins', 'needles', '@Gilamuffin', 'Rough', '@amiraahmed', 'loserrrr', 'havent', '5D', 'MK', 'II', 'built', 'sensor', 'nevertheless', 'dust', 'VisibleDust', 'Sensor', 'Brush', 'Bethany', 'University', 'FIRE', 'http://www.bethany.edu', 'Total', 'cafeteria', 'burned', 'ground', 'john', 'mayer', '7am', 'grool', '@JulieBanderas', 'fewer', '300', '@NKOTB_myangels', 'laughing', 'birthdays', 'mums', 'grandmas', 'kates', 'poorness', 'Stuck', '@Chipmunkartist', 'Jacob', 'burns', 'theatre', 'Fellini', 'rescheduled', 'booo', 'cones', 'likely', 'vote', 'Mr', 'Universe', 'load', 'Days', 'Left', 'Europe', '16', 'side', 'Fuck', 'let-down', '@heatherhll', '@BluePhoenix1', 'ignoring', 'lately', 'seats', 'Martin', 'Short', 'TBS', 'standup', 'Vic', 'serving', \"Janitor's\", 'Scrubs', 'Disappointment', 'wishes', \"he'd\", 'bastard', 'irreplaceable', 'Jodie', 'understands', '@graphiclucidity', 'obviously', 'byebye', 'aisyeek', 'sososo', 'yah', 'repeated', 'thousand', '@Rythine', 'certified', '#LOFNOTC', 'gayness', 'wearin', 'shirts', 'lie', 'Boyd', '@summerblonde83', 'comments', 'kranoop', '@TopSR', 'challenging', 'title', 'precious', 'Ugly', 'betty-sad', 'leav', 'skl', 'bboooorriinnggg', 'owell', '@lrtweetup', 'tweetup', 'destroy', 'happiness', 'explain', 'Latin', 'language', '@liverpool_tx', '@MRMcLovin12085', 'massage', 'learn', '@101887', 'pros', 'cons', 'list', 'winning', '@MrsSmith007', 'gingers', 'Lobsters', 'nigga', 'hooky', 'Damnit', 'AND', 'order', 'spam', 'bots', 'Missin', 'http://myloc.me/5zM3', 'Bing', 'efficient', 'sunset', 'intuition', 'Though', '@pchere', 'QOT', 'loading', '@timestocome', 'jumped', 'neutral', 'outlet', 'switch', 'dies', 'craving', 'water', 'sooooo', '2nyt', '@michellecorona', 'misssss', 'adventures', 'BOOO', 'uh', '4GOT', 'WAT', 'WAS', 'subsequent', 'attempts', 'tyre', 'involving', 'jacks', 'shasy', 'slightly', 'listens', 'grocery', 'Hubs', 'overtime', 'GOSHH', 'quest', 'NOOOOOO', 'Wishing', 'alittle', 'disappointing', 'fuck', 'amigo', 'weeded', 'tomatos', 'squash', 'hurting', 'seem', 'bug', '@hostilecityjane', 'yell', 'worried', 'feasib', 'grouping', 'hayfever', 'friendship', '@Rosellyanna', 'goood', 'channels', '@harisn', 'allowing', 'Lhr', 'Isl', 'poppin', 'fbook', '@neuroaxon', 'migraine', 'Must', '@orangetim', 'WLAN', 'Scored', 'Hussy', 'voucher', 'fashion', '@eugeneadu', 'Bcuz', '2years', 'Tryin', 'juz', 'wuz', '30years', 'prabowo', 'Tapi', 'kenapa', 'harus', 'pair', 'dengan', 'megawati', 'http://is.gd/AKvM', '@_CrC_', 'erased', '467', 'Took', 'picks', 'upcoming', 'items', 'blue', 'cld', 'jus', 'yack', 'wld', 'ughhh', 'DO', 'tally', '@RickyDeHaas', 'skype', 'http://bit.ly/OVaaS', '@bosoxmas', 'fight', 'devil', 'Sucks', 'hung', 'damnnn', 'alcohol', 'ahahha', '@johnmfinn', 'imho', 'lucas', 'reigns', 'h8', '@sarahtymeson', 'allergic', '@JimmyGordon', 'ruined', '@caseyobvi', '@LadyB84', 'yeppieee', 'hungover', 'uhh', 'eaten', 'mac', 'cheese', 'ughh', 'shared', 'nanny', '@McJayxo', '@KellyDivine', 'BFF', '@teckie', 'Yup', 'tub', 'choco', 'chip', 'cookie', 'dough', 'york', 'fudge', 'brownie', '@missjeffreestar', 'comfort', 'GOING', 'Warped', 'Tour', '@plasko', 'Syke', 'epic', 'busted', 'graffiti', '@bradiewebbstack', 'porr', 'mr', 'sock', 'killing', '@jadledee', 'YUM', 'havnt', 'pudding', 'http://twitpic.com/7r99s', 'Super', 'pissed', 'offf', 'http://twitpic.com/7o7wv', 'spider', 'eggs', 'garage', '@MishDockry', '44', 'awkward', '@Lauren_Roberts_', '9th', 'leaves', '8.50', 'yik', 'Hampshire', 'midsummer', 'sunrise', 'waterproofs', '@TheGlamSpot', '@sluce17', 'lights', '@hustlr_v2', 'tokbox', 'rumors', '@missameliahooo', 'sighs', 'chubby', 'char', 'siew', '@ryan_andrew', 'F-ing', 'AGAIN', 'Hotel', \"tv's\", 'HD', 'pointless', 'ow', 'panic', 'attack', 'Distracting', '@selenagomez', 'wicked', 'GRUMPY', '@czarthp', 'READING', 'hippies', '@princesammie', 'CAN', 'WHAT', 'IM', '@Prettyhoneydip', 'followin', '@offhollywood', 'Wiebetech', 'single-tray', 'dirt', 'SJ', 'latch', '@gurusoftech', 'Accident', 'corner', 'republic', 'judges', 'Avoid', 'cresta', '#trafficza', 'LAPTOP', 'CRASHED', 'fellowship', '@JessikaSay', 'awwwh', 'fell', 'officiially', '@sara3isenough', 'cupcakes', '@aronimansie', 'melly', 'sooooooooooooooooooooooo', 'fuckin', 'buddy', 'josh', '@Yonoooy', 'boo', 'broken', '@feeee', 'heard', 'killer', 'Bretts', 'tattoos', 'hitting', 'Perth', 'anytime', 'thunderstorms', '@oh_clarissa', 'friendly', 'fires', '@hullgay', 'il', 'oooo', 'provide', 'Rubbish', '@qbarq', 'teeth', 'extracted', 'cutting', 'bone', '@bing', 'siteowner', 'searchParam', 'loc', 'AU', 'Try', 'query', 'honor', '@princes_lea', 'survive', '@AshBell22', '_', 'Depressed', 'toe', 'REALLY', 'hurts--I', 'rammed', 'metal', 'thingymabob', \"twin's\", 'basement', 'wound', 'lsu', 'losing', '@pottymouthmama', '@orneryboy_comic', 'Does', 'Dead', 'Rising', 'PS3', \"They're\", 'second', '@_anniemay', 'favs', 'Aiden', 'Bayside', 'Senses', 'Fail', 'stages', '3OH3', 'Madness', '@omfgiselle', 'stephen', 'bracelet', '@a_willow', 'tried', 'Barca', '@LaurenConrad', '@danieldececco', '@esmereldaa', 'WAY', 'TO', 'IGNORE', 'ME', 'ON', 'MSN', 'Bamboozle', 'killed', \"Cormac's\", 'th', 'mistaken', 'identity', 'plagerism', 'Design', 'http://yfrog.com/0econcepthomej', 'prospects', 'http://tinyurl.com/mwur8t', 'uno', '@steff_blehh', 'Rlly', 'hmmmpf', 'EMO', 'honey', 'shaken', '@kaboogie', 'odd', 'bright', \"load's\", 'dryer', 'Alone', 'tanning', 'major', 'bummer', '@kionee', 'Nick', 'awaiting', 'cable', 'docs', 'knee', 'pees', 'mouth', 'sunburnt', 'alll', 'econ', '@LTCB', 'schhol', 'daughters', 'sigh', 'Kelso', 'tumble', 'stairs', 'afternoon', '@drigotti', \"ain't\", \"Granny's\", 'pump', 'drivers', 'elses', '@x_himynameisale', 'hills', 'Lauren', 'Thinks', 'completely', 'tidy', 'sleepies', '@katieeecook', 'crime', 'Lejal', 'asylum', 'interested', 'Jensen', 'Dog', 'stressin', 'rite', '=(', '4gotten', \"You'v\", 'annoyed', 'lyk', 'porto', 'allegre', '@thekatvond', 'Upgrading', 'Quicktime', 'installation', 'appears', 'messy', 'ahead', 'pounding', '@reallifegrety', 'oooooh', 'torchwoodRP', 'ate', 'stomachs', 'paying', 'price', 'Ow', 'Waited', 'ten', 'Food', 'Bank', 'BBQ', 'rudely', 'veggie', 'burgers', '@faerywitch', 'http://twitpic.com/7j0iy', 'Backyard', 'snow', '@exialla', 'masterchef', 'mentalist', '@SandyLovesMiley', 'HOMEWORK', '@danniehh', 'realized', 'hiding', 'Should', 'Gotta', 'salon', 'crack', 'dawn', \"Wouldn't\", \"dps'ing\", 'raids', 'Trouble', '2.2', 'dps', 'spriest', 'normally', 'recombinations', 'lived', 'Baltimore', 'Strange', 'http://myloc.me/15BT', 'meant', '@kmsexton', \"friday's\", 'sims', '@Juliet17101', 'recognised', 'Corrie', 'Scream', 'turning', 'paranoid', 'hearing', 'bang', '@JP_FLECK', 'HA', '@BiancaCullen', \"wish'd\", \"they'd\", 'specifically', 'allen', 'craig', 'crappeh', 'xP', 'http://bit.ly/WZUAI', 'Lehmsml', 'Rhea', 'normal', '@ryiinn', 'supposed', 'depressed', 'Grandfather', 'Visiting', 'grandfather', 'hospital', '@jaspercullen', 'Has', '@lijames', '@crackpotjack', 'Being', 'Pittsburgh', 'baseball', '2moro', 'hershey', 'monday', '@JacobLovie', 'rescue', 'pyschology', '@lexiHaynes', 'shoulda', \"what'd\", '@TheMakeupSnob', 'barely', 'refrigerator', 'beloved', 'Dr', 'Pepper', '@hasanah272', 'Jester', 'poorly', 'vets', '@rainnwilson', 'Soulpancake', 'None', 'images', '@_graace', '86ships', 'ships', 'Oddly', 'Bones', 'characters', 'tweeting', '@SHINOBININJA', 'states', 'never-ending', 'tests', '40', 'duct-taped', 'boots', '@ButterflyNova', 'boredom', 'hatred', 'tony', 'hawk', 'similair', 'reason', '@sabrinaxx', 'vids', 'homeee', 'deadliest', 'warrior', '@ClayKirkland', 'cho-yeh', '6am', 'PST', '4th', '#fml', '@Japumpy', 'botox', 'lips', 'Angelina', 'Jolie', 'racism', '@TheLatency', 'rockband', 'wanting', 'tuition', 'odds', 'ends', 'science', 'teacher', '@becca_ca_ca', 'EOTR', 'exhausted', 'lonely', '@Phoebo', 'yeahhh', 'dec', 'sale', 'july', 'standing', 'xoxoxoxo', 'bank', 'holiday', 'sooooooooo', '@rustyrombones', 'bean', 'dip', 'tacos', 'steve', 'stinky', 'hilton', 'boise', 'Failure', 'filling', 'Pain', 'spill', 'cement', 'shooting', 'pumping', 'iron', 'arm', 'Another', 'casualty', 'lightning', 'strike', 'Luckily', 'pry', 'retrieve', 'copy', 'Final', 'Fantasy', 'X', 'baccy', '@angeliitoh__x', 'Vente', 'pues', 'todavia', 'duele', 'sien', 'status', 'leaking', 'tablets', 'box', 'tissues', 'Unemployed', 'funds', 'low', 'Joey', 'Awh', 'tie', 'affair', 'Air', 'Brazil', 'Weird', '@onepeacebooks', 'unfortunately', 'Japanese', 'salad', ';p', 'hotoshoot', 'staying', 'research', 'Cheque', 'accepted', 'enrollment', 'Needs', 'issues', 'Vaio', 'S28GP', '5years', 'guessing', 'micro-dimm', 'costs', '99', '512mb', 'sorting', 'Skyride', '350', 'Fifth', 'Ave', '10118', '@SunnyBuns', 'liked', '#tryingnottobeastalker', '@kshack22', 'Cor', 'Sounds', 'good.Sadly', '@mcvie', 'familiar', 'becomes', '@rachel1975', 'frak', 'vaca', 'Dbacks', 'bullpen', 'Fantasmic', 'dessert', 'buffet', 'unlimited', '@Armano', 'record', 'review', '@JessKPenn', 'DUNNO', 'SOMEONE', \"DIDN'T\", 'REPLY', 'PAGE', 'LONG', 'TEXT', 'YESTERDAY', '@rockydydy', 'WHATTT', 'WHY', '11th', '1/2', 'hr', 'brake', 'decide', 'tripod', 'part', 'shaky', '@padfootcullen', 'JRoss', 'iPlayer', 'Cramps', 'suck', 'period', 'bfore', 'Starscape', 'refuse', 'portapotties', '@alynnsayys', 'whos', 'funeral', 'throbbing', '@Sooze74', 'apprentice', '@rosieperez', 'Curve', '8900', 'relax', 'stroll', 'mike', '@LauraKelly28', '@ktml', 'buying', 'coda', 'Unfortunately', '99USD', '#jealous', 'binging', 'cans', 'coke', 'fortnight', 'tells', 'fed', 'THIS', \"ISN'T\", 'IDEA', 'FUN', '#IMISSCATH', '@Beautifully507', 'okkkkaaaay', 'drop', 'opera.com', 'South', 'Africa', 'Yups', 'purposes', 'astro', 'chair', 'resto', 'According', 'lab', 'antibiotics', 'reaction', 'antibios', 'kidney', 'infec', '@tankstudio', \"We'll\", 'Jun', 'sooner', 'thougt', 'attempt', 'upgrade', 'UTEID', 'haircut', 'bf', 'krystina', 'lamb', '@wearetheredsox', 'accounts', 'supermarket', 'pupils', 'Runny', 'Continuous', 'sneezing', '`', 't', '@jacvanek', 'heads', '@graceburton', 'dose', '@twisource', 'although', 'difference', '@Virginia_5', 'e-mailed', 'reflection', 'shaft', 'unwise', 'countdown', 'drowned', 'rat', 'ploughed', 'tripled', 'insurance', 'settled', 'double', 'gud', 'knw', 'cyrus', 'iz', 'Ag', 'nothng', 'everythng', 'Hw', '@Kirhay', '@RyanSeacrest', 'DUUUDE', 'trek', 'Savannah', '@janey79', \"Utah's\", 'state', 'Sept', 'possibility', 'Somethings', 'relay', 'thoug', '#uncubicled', '@uhoh_lindsey', 'okayyy', 'sisss', '@angel0712', 'Liz', 'Aussie', 'lime', 'Bella', '@mswilliamsmusic', 'DONT', 'NUMBER', 'CANT', '@virgopeace', 'yoooo', 'wondergirls', 'jonas', '@lebout', 'Afternoon', '@Silvicultury', 'guitar', 'loudly', '@Richard_Gable', '@Emberz', '@alingtron', 'bites', '@xlaurenxx', 'brothers', 'jason', '36', 'Eddie', '39', 'When', 'empty', 'Woke', 'Up', 'Ago', '@nick_carter', \"Where's\", 'Pooh', 'JOKE', '@shortneyb', '@feltbeats', 'Ugghhh', 'http://twitpic.com/7qu30', 'PPP', 'country', 'Eww', 'gtfo', '@gokira', 'Madison', '@meenususanna', 'drain', '@waittoexplode', 'tooooo', 'Again', 'Elections', 'results', 'selling', 'stocks', 'round', '@andreamoss615', '@pooping76180', 'os', 'O_O', 'chain', 'RUST', 'caught', '@moossacre', 'respond', '@LittleMissFredi', 'difficult', 'Holy', 'river', 'cabin', 'craziness', 'BTTF', \"one's\", 'GLUED', 'Gutted', '@ruthchu', 'wat', 'riverside', 'Because', 'san', 'diego', 'brawley', 'symbols', 'attmpt', 'showing', '@therealkashflow', 'thnx', \"I'ma\", 'surgeon', 'appt', 'surgery', 'nd', 'nothin', 'concern', 'november', '5th', 'answers', '@robsthell', 'deter', 'Nicholas', 'cage', 'pops', 'Missing', 'Grapevine', 'Daughter', 'broadcasting', 'neighbour', 'rogram', 'planned', \"Mummy's\", 'underwears', 'Residence', 'cannot', 'report', 'baking', 'disgusting', '@erliou56', 'underage', 'WAtching', '@chelsealately', 'Separate', 'Lives', 'numbers', '@rbrtpttnsn', 'America', 'transmited', 'prizes', 'rangking', 'gue', 'turun', 'http://plurk.com/p/11sig5', 'xp', 'searchindexer', 'compete', 'infection', '@SuperCricket', 'undercover', 'police', 'officers', 'prostitutes', 'Sagittarius', 'wtfever', 'mf', 'capricorn', 'ahahaha', '@crankynick', 'somehow', 'pulling', 'wires', '@laceystone', 'lbs', 'terribly', '@Hickelmi', '@jontymisra', 'OMGoodness', 'Oci', 'Store', 'Kind', 'upsetting', '@TaraBusch', 'sleeep', '@peterfacinelli', 'Edward', 'washington', \"showdown's\", 'accomplished', 'regret', 'http://plurk.com/p/yyem6', 'Longer', 'Bob', 'Wills', 'Playboys', \"Benadryl'd\", '7.5', 'banana', 'mix', '99cents', '2007', '@china__cat', 'remedies', 'subject', 'law', 'deberÃ', '\\xad', 'seguir', 'durmiendo', '@Buildabear96', 'rarely', 'howÂ', 'homework', '@cavalieresilvio', 'Noones', 'nauseous', 'essentials', 'Sat', '@heatherholley', 'Noooo', 'Body', 'worn', '@ktvb', 'station', 'conversion', 'signal', '@eacusick', '@cakey', 'Burton', 'Countryside', 'fab', '@tahneecullen', 'nearly', '@RichJava', 'gray', 'Sighhhh', 'puggle', 'Sami', 'scooter', 'emeryville', 'Roller', 'Kingdom', 'Kegger', 'minatures', 'moments', 'confusing', '@agentdoublel', \"Alex's\", 'Midlo', 'NC', 'rly', '@JheneAiko', 'omggg', 'uâ', 'intensity', 'proportional', '@rachelsuzannee', 'GOOD', 'bears', 'Farm', 'Town', 'Facebook', 'addictive', 'presentation', '@bexdeep', 'Aaarh', 'defend', 'Apple', 'Uuughhh', 'blew', 'Cookies', 'kills', 'initially', 'amsterdam', 'Dreading', '@k_bright', 'hubbys', 'cleanin', 'bathroom', '2morrow', 'place-was', 'backs', '@seansmithsucks', '@Befibeez', 'gah', 'ystdy', 'moron', 'step', 'lifeguard', 'training', 'hardest', 'Louisiana', 'Allergies', 'wiping', 'Feelin', 'WISH', 'HAD', 'meee', 'shiiitt', 'Dis', 'wakk', 'mystomach', 'Hella', 'gonee', '@nessalh', 'dunkin', 'donuts', 'Whoops', 'dogs', 'rip', 'farts', 'upload', \"school's\", 'unreliable', '@aspo1', \"baby's\", 'bottle', 'keping', 'thesis', 'unnatural', 'graffting', 'holidays', 'mexico', 'tragedy', 'perished', '@southernbellex3', 'lbfl', '@replies', '@AimeeCH', 'pet', '@nicola171281', 'knowing', 'popular', 'artist', 'Hiromi', 'Uehara', 'playlist.com', '#jazz', '@starrylites', 'impossible', 'coordinate', 'verdict', '@wineconscience', '@daniellewatt', 'kiting', 'realised', 'forecast', 'hatteras', 'duvet', 'clearing', 'mau', 'satisfy', 'swings', 'http://plurk.com/p/xv9f9', 'lvatt', 'bogus', '@BBBaumgartner', 'prayers', '@empressK', 'edemame', 'annoying', 'Ahah', 'summerschool', '@Stressstheworld', 'experienced', 'sales', '@hello_jodie', 'f', 'buttocks', 'partay', 'Woot', '@jamiecoyne', 'bennett', '@seanmychal', '@Kazcita', 'People', 'seeing', 'constant', 'losses', 'perceived', 'immigration', 'uk', '#thebnparetwats', 'sittn', 'Depressing', 'gemgem', 'literally', 'sleeepies', 'abetter', 'laidley', 'north', 'farewell', 'herself', 'wit', 'Figures', 'rumours', 'West', 'Yorkshire', 'Humber', 'Greens', 'polling', '@QueenM81', 'US', 'coverage', 'UGH', 'adventures.Next', '@zoziekins', 'rainingggg', 'emergency', 'vet', 'pukey', 'kitty', 'bladder', 'worse', '@SimplyStar', 'Ohh', 'taunt', 'Eastern', 'Zone', 'creamy', 'sugary', 'donut', '@7726', 'sadly', 'misremembered', 'address', 'Therefore', 'Wait', 'professor', 'golfing', 'trapped', 'conditioning', 'feh', 'planning', 'frame', 'autographed', 'Martha', 'Wainwright', 'Bloody', 'Mother', 'cking', 't-shirt', 'signature', 'faded', '@meerasapra', 'Restrict', 'everytym', 'log', 'quizzes', 'woken', 'snoring', '2-11', 'ay', '3ee', '@Alyssa_Milano', 'local', 'animals', 'touching', 'Keeps', 'accidentally', 'violation', '@smagee1', 'swim', 'hotter', 'hells', 'Easley', 'ballfield', '@ruidelgado', 'http://twitpic.com/4hg6o', 'liars', '@triplehark', 'compassion', '@MsLegit', 'gordita', 'crunch', 'xtra', 'Sour', '@MissMoco', 'whooooo', '@Joanne323', 'C', 'fingertipless', 'Utd', 'players', 'bunny', '@SarahPaulson', 'Cupid', 'cancelled', 'terrific', '@panikmusik', 'http://twitpic.com/3hfpn', 'GOD', 'Knowing', 'newfound', '#telia', 'takes', 'sim', '\\x82', '¬', '@NessaSlashRice', 'fitzzy', 'ROSE', 'DIDNT', 'WEAR', 'CROWN', 'awoken', '3am', 'parramatta', 'instore', 'dvd', 'K-Zone', 'Kapitan', 'Sino', 'Ong.yay', 'TG', 'stands', 'somen', 'CCNP', 'physical', 'certain', 'Finly', 'managed', 'SUPPOSED', 'territorial', 'disagreement', 'Fat', 'syndrome', 'strikes', 'caffiene', 'soda', '@denisethefish', 'ESTK', 'PLEASE', 'princess', 'unhappy', 'shots', 'upside', 'doctor', 'elmer', 'fudd', 'Txt', '@maksbestfriend', 'pits', 'unpacking', '@Freepornent', 'rubbed', \"i'ma\", 'kay', '#insomnia', 'AWKWARD', '@ditabobita', 'DITA', '@130587', 'geez', 'awayyy', '@BrandyWandLover', 'unfollow', 'refollow', 'square', 'arguing', '@ageofreptiles', 'jessica', 'snif', 'Smithsonian', '@Zaidah1', 'visa', '@andremichael', 'Sure', '@mw1ll', 'number', 'unpopular', 'continue', 'oral', 'pathology', '@rayalforte', 'http://twitpic.com/5fd04', 'WOA', 'jonats', 'wawa', '@dwears', 'remembered', 'starving', 'Duudoo', '@NileyAddict155', 'Luis', 'http://www.winterfestival.com.au/index.php?option=com_content&view=article&id=50&Itemid=79', 'hella', 'ima', 'screwed', '@kalebnation', '@SuperCoolTnicki', 'Never', 'piss', 'pants', 'Lmao', 'horribly', '@tonyt787', 're-set', 'Iphone', 'settings', 'user', 'password', 'tongue', '@torilovesbradie', 'acro', 'heeps', 'strength', 'limewire', 'isnt', 'java', 'Norway', '@oveyo', 'middle', 'Marte', 'Â', '£', 'global', '@aries_76', 'golf', 'thinkin', 'probly', 'xmas', '@rottnapples', 'Golf', 'Mill', 'SUCKS', 'Moved', 'Tweet', '#7000', 'se', 'decir', 'Wieso', 'buffert', 'nich', 'auf', 'kino.to', 'BlÃ', '¶', 'der', 'mist', 'esxi', 'Dell', 'Sudio', 'i7', 'CPU', 'hyperthreading', 'cores', 'lola', 'tobasco', 'butties', '@RedTexta', 'Whenever', 'account', 'inactive', 'Activate', 'activation', 'code', '@c_artis', 'lied', 'hfdkaljfkaljfskla', 'HOURS', 'charge', 'scorpion', 'dying', 'choice', 'besties', '@AnirudhArya', 'Harsh', 'reasons', 'stick', 'cryin', 'listen', 'falling', 'crying', \":'(\", 'Trading', 'Wii', 'credit', 'REESE', '@DogBountyHunter', 'Scrappers', 'worst', 'shark', 'Fml', 'gross', '@jimlootens', '@CliveM', 'tribute', \"He'll\", 'sorely', 'ninjas', 'hilarious', 'rofl', '@Brandolina5', 'replied', \"nadine's\", 'flood', 'applicable', '@grant78uk', 'Bournemouth', 'Relaxing', 'spend', 'matt', 'gave', 'Ashley', 'boston', 'am-thats', '@CandleCane', 'saddens', 'ignored', '#springsteentalktomcfly', 'Head', 'silence', 'taxi', '@marykeegin', 'revisinggg', 'boredd', 'tonite', 'punctured', 'finger', 'sonic', 'ouch', 'gusher', '@BriBri2007', 'tweetd', 'Really', 'waterproof', 'headphones', 'cloudy', '@imdamama', 'doooo', '@ankur_sethi', 'honest', 'Fx', 'switched', 'Chrome', 'Opera', 'stole', \"Dusty's\", 'Huzzah', 'slammed', 'Forgot', '@adriagrocrag', 'ahhhh', 'gotsto', 'Wangs', '@mintran', 'Mu', '#webcamp', 'quï', '¿', '½', 'anh', 'nhï', 'ch', 'h', 'p', 'oatmeal', 'French', 'Open', 'fridays', 'Whats', 'telly', 'saturdays', '@moodyje2', 'alchy', 'dressed', 'Listening', 'Red', 'Chilli', 'Peppers', 'quiero', 'mÃ', '¡', 'Lil', 'Santi', '200000', 'miles', 'fabubously', 'Di', \"Ya'll\", 'grounded', '2-4', 'matches', '@kidamnesiac', 'grizzly', 'tons', '@xmatty', 'prefer', 'british', 'az', 'wonders', '@megan_ambers', 'bird', 'flew', 'window', '@namakemono49', 'yeh', 'THREE', 'sodding', 'adds', 'britney', 'miming', '@mijaux', 'jesus', 'Ouch', 'Foot', '@Pushermania', 'elena', 'legit', 'mic', '@paulandstorm', 'layover', 'txting', 'Shatner', '@JasonBradbury', 'fare', 'contract', '@simonech', 'register', 'conferences', 'cancel', 'feedbacks', '@VaughnMom', 'clickable', 'strep', 'mary', '@Jennifer1906', 'Brown', 'not-in-jail', '@awaitinserenity', 'YOURS', 'netball', '@melodyfryster', 'Bout', 'Hate', 'desert', 'singapore', 'http://plurk.com/p/y3bzt', 'Checked', '2.5', 'hrs', '@KirstyBurgoine', 'shed', '@DHughesy', 'mraz', '@Iamhollyywood', 'bcuz', 'miami', '@ItsThatDude_com', 'smcross', 'http://ustre.am/3uRN', 'Mcfly', 'placement', '2mz', 'GameGuard', 'Aion', 'bot', 'infested', 'http://ping.fm/p/yX5Zy', 'drunken', 'antics', 'couch', '10am', '5pm', 'experience', 'discovered', 'patch', 'TSCC', 'renewed', 'signing', 'lighting', 'webcam', 'http://bit.ly/CZHD8', '@dopestdope', 'cell', 'bin', 'Layin', 'workin', 'T-Pain', 'oooooweeeee', 'dis', 'damnit', 'chrome', 'nakey', 'assured', 'host', 'infected', 'receiving', 'mobile', 'virgin', 'cough', 'pity', '@dorkabella', 'magicians', '@AndySquirrel', '@sanasam', 'icant', 'Ho', 'Hum', 'properly', 'thumbs', 'stiff', 'coldness', 'Republic', 'MMO', ':-D', '@HermieSadler', 'Jimmie', \"Dad's\", 'ranting', 'satelite', '@PinkAngel_0704', 'Juvies', 'DAM', 'Young', 'Lord', 'Mercy', 'secretary', 'woman', 'goneon', 'Diary', 'meetings', 'countries', 'confess', 'Sugar', 'Burned', 'wrist', 'IN', 'oven', 'yuck-y', 'sniffle-pout', '@_sputnik', 'weight', 'maintain', '@4Furwoodthought', 'especially', 'spent', 'international', \"father's\", '@Woody_in_MK', 'original', 'alas', 'AWOL', 'resurrected', '@Twitter_Tips', 'Mine', 'publix', 'crushed', 'cruised', 'tybee', 'lookin', 'diploma', 'Bobby', 'Valentino', 'Perfume', 'Available', 'Bacolod', 'gusto', 'nakawin', 'frenchtoast', 'dave', 'orange', 'juice', 'poured', '@SheNICE2', 'cass', 'jet', 'OHHHHHHH', 'Headache', 'beers', 'Detoured', 'causing', 'backups', 'smith', 'drive', 'chin', 'machine', 'injured', 'Update', 'SL', 'toss', 'chose', 'bat', 'Pak', 'bowling', '#PakCricket', 'fluuu', '@TheBastardGent', 'onto', 'topic', 'http://bit.ly/O5yJ1', 'thumb', '@idashan', 'Dreamer', 'abused', 'owner', 'skitzy', 'Bailey', 'eclipse', 'twilight', 'liking', 'books', \"movie's\", 'URGH', '@Antony_Edwards', 'crombos', 'neighborhood', 'applebees', 'carside', 'joe', 'jon', '@youngq', 'aquainted', 'plugs', '#Jeep', '#ROC', 'replace', 'rear', '#dontcheatmothernature', 'proofread', 'Boooo', '@irohan', 'invites', 'lakme', 'skoda', 'merc', 'cud', 'digital', '@magellanlive', 'Shut', 'UP', 'die', 'Angel', 'ran', 'armadillo', '@Kobus_debeer', 'snakes', 'LIVE', 'bunnies', 'alt', 'shift', 'del', '@ms_adri_luvmphs', 'Some', 'greatness', 'trendsettin', 'friggin', '@nayfe', 'cuggle', 'remain', 'blender', '@bettyy23', 'argentina', 'Cute', '@Peterfacinelli', 'Ich', 'liebe', 'Kunst', 'aber', 'marks', 'Rahh', 'theory', 'absents', 'PP', '@grabeellucas', 'between', 'ashley', 'Beds', '@Mr_Geoff', 'Politics', 'Drama', '@Aheram', 'paste', 'blazing', '@sheepmeepbeep', 'LOLLLLL', 'sumthings', '@PrincessSuperC', 'Riga', 'bicyclist', 'bleeding', 'Jesus', 'Challenge', \"Pape's\", '7pm', 'Ultimate', 'unlchallenge.com', 'directions', '@stevesics', 'Luhh', 'beutiful', '@uberaubs', 'Something', 'evil', 'veeeery', 'muahaha', '@purefm', 'dohnuts', 'dips', 'everytime', 'massive', 'queue', 'flyyyyyyy', 'bueno', 'alarM', '#Titanium', 'developer', '4.3', 'wont', '#ubuntu', '64', 'alpha', 'Sox', 'grade', 'nursery', 'sit', 'Slightly', 'dreading', 'daughter', '@TheRealJordin', 'jobros', 'Sickkkkk', 'omfg', 'inet', 'extra', 'salt', 'ketchup', '@BuzzEdition', 'Weirdest', 'mentions', '@CubanaLAF', '@ChrisSpags', '@alexis309', 'Cannot', 'MISSING', 'CHESTER', 'FRENCH', 'temporary', '10GB', 'ARGH', '@Angied0', 'celebs', '@IrieIrie', 'http://twitpic.com/7gu1q', 'outfit', 'Em', 'Notttt', 'weiiird', '@adamashbery', 'jinxed', '@Andersoncooper', 'Ling', 'euna', 'statements', 'Korea', 'oracle', 'buys', 'top', 'developers', 'fear', 'buyout', 'http://is.gd/tzuU', 'Houston', 'tutubee', 'ï', '120', 'bbm', 'fat', 'lucky', 'base', 'gotter', '181', 'Sadly', 'woods', 'hauled', 'cameraphone', 'arms', 'leg', 'Luv', 'clouds', '@Tazz602', 'sulking', 'woohoo', 'various', 'locations', 'Jack', \"Astor's\", 'Munich', 'airplane', 'technical', 'difficulties', 'attended', 'English', 'skill', 'gotten', 'giant', 'bebem', 'http://plurk.com/p/uhmg8', 'Argh', 'tilted', 'Pato', 'Kat', 'dentist', 'Christiano', 'Arsenal', 'fs', 'Could', 'Drogba', 'ballet', 'Goes', 'easily'])"
      ]
     },
     "execution_count": 30,
     "metadata": {},
     "output_type": "execute_result"
    }
   ],
   "source": [
    "word_features = get_word_features(get_words_in_tweets(sample_data))\n",
    "word_features"
   ]
  },
  {
   "cell_type": "code",
   "execution_count": 31,
   "metadata": {},
   "outputs": [],
   "source": [
    "def extract_features(document):\n",
    "    document_words = set(document)\n",
    "    features = {}\n",
    "    for word in word_features:\n",
    "        \"\"\"word_features is predefined above as list of \n",
    "           3+ letter tokens from all tweets combined\"\"\"\n",
    "        features['contains(%s)' % word] = (word in document_words)\n",
    "    return features\n",
    "\n",
    "# apply features to classifier with our feature_extract function \n",
    "# it outputs a list of tuple, each tuple holds the \"feature dictionary\"\n",
    "training_set = nltk.classify.apply_features(extract_features, sample_data)"
   ]
  },
  {
   "cell_type": "code",
   "execution_count": 32,
   "metadata": {},
   "outputs": [],
   "source": [
    "# train our classifier using our training data set\n",
    "classifier = nltk.NaiveBayesClassifier.train(training_set)\n"
   ]
  },
  {
   "cell_type": "code",
   "execution_count": 33,
   "metadata": {},
   "outputs": [
    {
     "data": {
      "text/plain": [
       "'positive'"
      ]
     },
     "execution_count": 33,
     "metadata": {},
     "output_type": "execute_result"
    }
   ],
   "source": [
    "# test it out \n",
    "tweet = 'we are happy with the outcome'\n",
    "classifier.classify(extract_features(tweet.split()))"
   ]
  },
  {
   "cell_type": "markdown",
   "metadata": {},
   "source": [
    "### Apply classifier to Student Loan Twitter Data "
   ]
  },
  {
   "cell_type": "code",
   "execution_count": 35,
   "metadata": {},
   "outputs": [],
   "source": [
    "student_data = pd.read_csv('data/master_annotated.csv')\n"
   ]
  },
  {
   "cell_type": "code",
   "execution_count": null,
   "metadata": {},
   "outputs": [],
   "source": [
    "student_data = student_data[['tweetFullText', 'sentiment']]\n",
    "test_data.columns = ['tweet', 'sentiment'] # rename so we can use tokenize_column() if needed later \n",
    "test_data.head(3)"
   ]
  },
  {
   "cell_type": "markdown",
   "metadata": {},
   "source": [
    "### Apply classifier to Twitter Data"
   ]
  },
  {
   "cell_type": "code",
   "execution_count": 108,
   "metadata": {},
   "outputs": [],
   "source": [
    "test_data = pd.read_csv('student_sample_4hashtag_900_mod10use.csv')"
   ]
  },
  {
   "cell_type": "code",
   "execution_count": 112,
   "metadata": {},
   "outputs": [
    {
     "data": {
      "text/html": [
       "<div>\n",
       "<style scoped>\n",
       "    .dataframe tbody tr th:only-of-type {\n",
       "        vertical-align: middle;\n",
       "    }\n",
       "\n",
       "    .dataframe tbody tr th {\n",
       "        vertical-align: top;\n",
       "    }\n",
       "\n",
       "    .dataframe thead th {\n",
       "        text-align: right;\n",
       "    }\n",
       "</style>\n",
       "<table border=\"1\" class=\"dataframe\">\n",
       "  <thead>\n",
       "    <tr style=\"text-align: right;\">\n",
       "      <th></th>\n",
       "      <th>tweet</th>\n",
       "      <th>sentiment</th>\n",
       "    </tr>\n",
       "  </thead>\n",
       "  <tbody>\n",
       "    <tr>\n",
       "      <th>0</th>\n",
       "      <td>“Who in the hell do they think that they are?”...</td>\n",
       "      <td>negative</td>\n",
       "    </tr>\n",
       "    <tr>\n",
       "      <th>1</th>\n",
       "      <td>\"It makes me so angry. They just continue to s...</td>\n",
       "      <td>negative</td>\n",
       "    </tr>\n",
       "    <tr>\n",
       "      <th>2</th>\n",
       "      <td>@AdamParkhomenko BREAKING: I AM NOT GETTING $5...</td>\n",
       "      <td>negative</td>\n",
       "    </tr>\n",
       "  </tbody>\n",
       "</table>\n",
       "</div>"
      ],
      "text/plain": [
       "                                               tweet sentiment\n",
       "0  “Who in the hell do they think that they are?”...  negative\n",
       "1  \"It makes me so angry. They just continue to s...  negative\n",
       "2  @AdamParkhomenko BREAKING: I AM NOT GETTING $5...  negative"
      ]
     },
     "execution_count": 112,
     "metadata": {},
     "output_type": "execute_result"
    }
   ],
   "source": [
    "test_data= test_data[['tweetFullText', 'sentiment']]\n",
    "test_data.columns = ['tweet', 'sentiment'] # rename so we can use tokenize_column() if needed later \n",
    "test_data.head(3)"
   ]
  },
  {
   "cell_type": "code",
   "execution_count": 121,
   "metadata": {},
   "outputs": [],
   "source": [
    "class_list = []\n",
    "for row in test_data.index:\n",
    "    msg = test_data['tweet'][row]\n",
    "    msg_split = msg.split()\n",
    "    result = classifier.classify(extract_features(msg_split))\n",
    "    class_list.append(result)\n",
    "test_data[\"predicted_sentiment\"] = class_list\n",
    "    "
   ]
  },
  {
   "cell_type": "code",
   "execution_count": 123,
   "metadata": {},
   "outputs": [
    {
     "data": {
      "text/html": [
       "<div>\n",
       "<style scoped>\n",
       "    .dataframe tbody tr th:only-of-type {\n",
       "        vertical-align: middle;\n",
       "    }\n",
       "\n",
       "    .dataframe tbody tr th {\n",
       "        vertical-align: top;\n",
       "    }\n",
       "\n",
       "    .dataframe thead th {\n",
       "        text-align: right;\n",
       "    }\n",
       "</style>\n",
       "<table border=\"1\" class=\"dataframe\">\n",
       "  <thead>\n",
       "    <tr style=\"text-align: right;\">\n",
       "      <th></th>\n",
       "      <th>tweet</th>\n",
       "      <th>sentiment</th>\n",
       "      <th>predicted_sentiment</th>\n",
       "      <th>match</th>\n",
       "    </tr>\n",
       "  </thead>\n",
       "  <tbody>\n",
       "    <tr>\n",
       "      <th>0</th>\n",
       "      <td>“Who in the hell do they think that they are?”...</td>\n",
       "      <td>negative</td>\n",
       "      <td>negative</td>\n",
       "      <td>yes</td>\n",
       "    </tr>\n",
       "    <tr>\n",
       "      <th>1</th>\n",
       "      <td>\"It makes me so angry. They just continue to s...</td>\n",
       "      <td>negative</td>\n",
       "      <td>positive</td>\n",
       "      <td>no</td>\n",
       "    </tr>\n",
       "    <tr>\n",
       "      <th>2</th>\n",
       "      <td>@AdamParkhomenko BREAKING: I AM NOT GETTING $5...</td>\n",
       "      <td>negative</td>\n",
       "      <td>positive</td>\n",
       "      <td>no</td>\n",
       "    </tr>\n",
       "    <tr>\n",
       "      <th>3</th>\n",
       "      <td>@cnnbrk As someone who will still owe tens of ...</td>\n",
       "      <td>negative</td>\n",
       "      <td>negative</td>\n",
       "      <td>yes</td>\n",
       "    </tr>\n",
       "    <tr>\n",
       "      <th>4</th>\n",
       "      <td>@DrMarkScience Why should I still be paying fo...</td>\n",
       "      <td>negative</td>\n",
       "      <td>negative</td>\n",
       "      <td>yes</td>\n",
       "    </tr>\n",
       "    <tr>\n",
       "      <th>...</th>\n",
       "      <td>...</td>\n",
       "      <td>...</td>\n",
       "      <td>...</td>\n",
       "      <td>...</td>\n",
       "    </tr>\n",
       "    <tr>\n",
       "      <th>158</th>\n",
       "      <td>Without offering any thing close to a suggesti...</td>\n",
       "      <td>negative</td>\n",
       "      <td>positive</td>\n",
       "      <td>no</td>\n",
       "    </tr>\n",
       "    <tr>\n",
       "      <th>159</th>\n",
       "      <td>Yay for those of us with student loans held by...</td>\n",
       "      <td>negative</td>\n",
       "      <td>negative</td>\n",
       "      <td>yes</td>\n",
       "    </tr>\n",
       "    <tr>\n",
       "      <th>160</th>\n",
       "      <td>You can and still should apply for One-Time St...</td>\n",
       "      <td>positive</td>\n",
       "      <td>positive</td>\n",
       "      <td>yes</td>\n",
       "    </tr>\n",
       "    <tr>\n",
       "      <th>161</th>\n",
       "      <td>🇺🇸🌍 #DemsAbroad writes to @usedgov @FAFSA abou...</td>\n",
       "      <td>negative</td>\n",
       "      <td>negative</td>\n",
       "      <td>yes</td>\n",
       "    </tr>\n",
       "    <tr>\n",
       "      <th>162</th>\n",
       "      <td>📣Shout it loud! Over 22 Million qualifying #st...</td>\n",
       "      <td>positive</td>\n",
       "      <td>positive</td>\n",
       "      <td>yes</td>\n",
       "    </tr>\n",
       "  </tbody>\n",
       "</table>\n",
       "<p>163 rows × 4 columns</p>\n",
       "</div>"
      ],
      "text/plain": [
       "                                                 tweet sentiment  \\\n",
       "0    “Who in the hell do they think that they are?”...  negative   \n",
       "1    \"It makes me so angry. They just continue to s...  negative   \n",
       "2    @AdamParkhomenko BREAKING: I AM NOT GETTING $5...  negative   \n",
       "3    @cnnbrk As someone who will still owe tens of ...  negative   \n",
       "4    @DrMarkScience Why should I still be paying fo...  negative   \n",
       "..                                                 ...       ...   \n",
       "158  Without offering any thing close to a suggesti...  negative   \n",
       "159  Yay for those of us with student loans held by...  negative   \n",
       "160  You can and still should apply for One-Time St...  positive   \n",
       "161  🇺🇸🌍 #DemsAbroad writes to @usedgov @FAFSA abou...  negative   \n",
       "162  📣Shout it loud! Over 22 Million qualifying #st...  positive   \n",
       "\n",
       "    predicted_sentiment match  \n",
       "0              negative   yes  \n",
       "1              positive    no  \n",
       "2              positive    no  \n",
       "3              negative   yes  \n",
       "4              negative   yes  \n",
       "..                  ...   ...  \n",
       "158            positive    no  \n",
       "159            negative   yes  \n",
       "160            positive   yes  \n",
       "161            negative   yes  \n",
       "162            positive   yes  \n",
       "\n",
       "[163 rows x 4 columns]"
      ]
     },
     "execution_count": 123,
     "metadata": {},
     "output_type": "execute_result"
    }
   ],
   "source": [
    "# create column to show if predicted_sentiment is the same as sentiment\n",
    "conditions = [(test_data['sentiment']==test_data['predicted_sentiment']),\n",
    "(test_data['sentiment'] != test_data['predicted_sentiment'])]\n",
    "values = ['yes', 'no']\n",
    "test_data['match'] = np.select(conditions, values)\n",
    "test_data"
   ]
  },
  {
   "cell_type": "code",
   "execution_count": 126,
   "metadata": {},
   "outputs": [
    {
     "data": {
      "text/plain": [
       "yes    96\n",
       "no     67\n",
       "Name: match, dtype: int64"
      ]
     },
     "execution_count": 126,
     "metadata": {},
     "output_type": "execute_result"
    }
   ],
   "source": [
    "# count up now many matches\n",
    "test_data['match'].value_counts()"
   ]
  },
  {
   "cell_type": "markdown",
   "metadata": {},
   "source": [
    "There are 96 matches between `predicted_sentiment` and `sentiment` out of 163 test data points. That is 59% accuracy."
   ]
  },
  {
   "cell_type": "markdown",
   "metadata": {},
   "source": [
    "Our model is accurate more than 1/2 of the time. Given its constraints, 59% is acceptable. We believe that if future work address the limitations of this model, the result will improve. Below is a list of the model's limitation: \n",
    "- not able to use emoticons \n",
    "- not recognizing @username as an entity/subject\n",
    "- no treatment for commas and periods\n",
    "- treat lower/upper cases differenlty\n",
    "- special characters and hashtags are still in test data, unaddressed\n",
    "- needed to remove stop words from the training model\n",
    "- A larger training data set might yield better result. We only used 0.125% of the provided Sentiment 140 dataset (2K out of 1.6 million rows). \n",
    "\n",
    "Finally, the pre-labeled test data could not be neatly categorize. For example, when we sense \"hope\" in the text, we would label it as positive, even though there are negative sentiment that prefaces the hope/resolution. \n",
    "ex: \n",
    ">@POTUS since your student loan forgiveness move is not going to pass muster with the courts, why not do something legitimate and fair. Lock all student loans at 1% interest for all existing and future loans. #StudentLoans2022 #loanforgiveness #studentloans #college\n",
    "\n",
    "The manual we gave this tweet was 'positive' but our model categorizes it as 'negative'. "
   ]
  },
  {
   "cell_type": "code",
   "execution_count": 129,
   "metadata": {},
   "outputs": [
    {
     "data": {
      "text/html": [
       "<div>\n",
       "<style scoped>\n",
       "    .dataframe tbody tr th:only-of-type {\n",
       "        vertical-align: middle;\n",
       "    }\n",
       "\n",
       "    .dataframe tbody tr th {\n",
       "        vertical-align: top;\n",
       "    }\n",
       "\n",
       "    .dataframe thead th {\n",
       "        text-align: right;\n",
       "    }\n",
       "</style>\n",
       "<table border=\"1\" class=\"dataframe\">\n",
       "  <thead>\n",
       "    <tr style=\"text-align: right;\">\n",
       "      <th></th>\n",
       "      <th>tweet</th>\n",
       "      <th>sentiment</th>\n",
       "      <th>predicted_sentiment</th>\n",
       "      <th>match</th>\n",
       "    </tr>\n",
       "  </thead>\n",
       "  <tbody>\n",
       "    <tr>\n",
       "      <th>17</th>\n",
       "      <td>@POTUS since your student loan forgiveness mov...</td>\n",
       "      <td>positive</td>\n",
       "      <td>negative</td>\n",
       "      <td>no</td>\n",
       "    </tr>\n",
       "  </tbody>\n",
       "</table>\n",
       "</div>"
      ],
      "text/plain": [
       "                                                tweet sentiment  \\\n",
       "17  @POTUS since your student loan forgiveness mov...  positive   \n",
       "\n",
       "   predicted_sentiment match  \n",
       "17            negative    no  "
      ]
     },
     "execution_count": 129,
     "metadata": {},
     "output_type": "execute_result"
    }
   ],
   "source": [
    "contain_values = test_data[test_data['tweet'].str.contains('@POTUS since your student loan forgiveness move is not going to pass muster with the courts')]\n",
    "contain_values"
   ]
  }
 ],
 "metadata": {
  "interpreter": {
   "hash": "f77f65dbbcf4e8b4a8cd70b43e47feb633efa338cacdb2d15ff3e58ba7027a78"
  },
  "kernelspec": {
   "display_name": "Python 3.9.13 ('socialmedia')",
   "language": "python",
   "name": "python3"
  },
  "language_info": {
   "codemirror_mode": {
    "name": "ipython",
    "version": 3
   },
   "file_extension": ".py",
   "mimetype": "text/x-python",
   "name": "python",
   "nbconvert_exporter": "python",
   "pygments_lexer": "ipython3",
   "version": "3.9.12"
  },
  "orig_nbformat": 4
 },
 "nbformat": 4,
 "nbformat_minor": 2
}
